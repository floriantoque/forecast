{
 "cells": [
  {
   "cell_type": "code",
   "execution_count": 1,
   "metadata": {
    "collapsed": true
   },
   "outputs": [],
   "source": [
    "import sys\n",
    "sys.path.insert(0, '../../../utils/')\n",
    "import utils_regressor\n",
    "import utils_date\n",
    "import utils\n",
    "\n",
    "from tqdm import tqdm\n",
    "\n",
    "\n",
    "from sklearn.preprocessing import StandardScaler\n",
    "from sklearn.preprocessing import MinMaxScaler\n",
    "\n",
    "import pandas as pd"
   ]
  },
  {
   "cell_type": "code",
   "execution_count": 2,
   "metadata": {
    "collapsed": true
   },
   "outputs": [],
   "source": [
    "# Variables data shaping\n",
    "features_time_step = ['2-end_event', '3-end_event', '4-end_event', '5-end_event',\n",
    "               '6-end_event', '8-end_event', '9-end_event', '10-end_event',\n",
    "               '11-end_event', '12-end_event', '13-end_event', '14-end_event',\n",
    "               '15-end_event', '16-end_event', '23-end_event', '24-end_event',\n",
    "               '30-end_event', '31-end_event', '32-end_event', '34-end_event',\n",
    "               '35-end_event', '40-end_event', '43-end_event', '45-end_event',\n",
    "               '47-end_event', '61-end_event', '68-end_event']\n",
    "\n",
    "features_day = ['Day_en', 'Mois','vac_noel_quebec', 'day_off_quebec', '24DEC', '31DEC',\n",
    "                    'renov_beaubien', 'vac_udem1', 'vac_udem2',]\n",
    "\n",
    "features_todummy = ['Day_en', 'Mois']\n",
    "\n",
    "time_series = ['11', '32', '34', '15', '44', '65', '31', '33', '35', '47', '13',\n",
    "       '14', '1', '9', '5', '18', '36', '24', '68', '43', '8', '64', '10',\n",
    "       '55', '3', '49', '51', '2', '19', '56', '7', '6', '4', '48', '66',\n",
    "       '25', '23', '28', '39', '54', '60', '27', '20', '46', '12', '21',\n",
    "       '62', '52', '41', '50', '30', '16', '37', '40', '26', '67', '57',\n",
    "       '61', '42', '45', '38', '29', '58', '63', '22', '59', '53', '17']\n",
    "\n",
    "\n",
    "start_datetime = '2015-01-01 00:00:00'\n",
    "end_datetime = '2017-12-31 23:45:00'\n",
    "\n",
    "# Variables optimization\n",
    "scaler_choice_X = None\n",
    "scaler_choice_y = None\n",
    "\n",
    "start_datetime_optimization = '2015-01-01 00:00:00'\n",
    "end_datetime_optimization = '2016-12-31 23:45:00'\n",
    "\n",
    "param_kfold={\n",
    "    'n_splits': 5,\n",
    "    'shuffle': True,\n",
    "    'random_state': 1}\n",
    "\n",
    "param_grid={\n",
    "    'n_estimators': [100, 150, 200],\n",
    "    'max_features': ['auto',None],\n",
    "    'max_depth': [None],\n",
    "    'min_samples_split': [2,5,10],\n",
    "    'min_samples_leaf': [1,5,10],\n",
    "    'n_jobs': [6],\n",
    "    'criterion': ['mse']}\n",
    "\n",
    "param_kfold={\n",
    "    'n_splits': 2,\n",
    "    'shuffle': True,\n",
    "    'random_state': 1}\n",
    "\n",
    "#rf\n",
    "param_grid={\n",
    "    'n_estimators': [10, 20],\n",
    "    'max_features': [None],\n",
    "    'max_depth': [None],\n",
    "    'min_samples_split': [5],\n",
    "    'min_samples_leaf': [10],\n",
    "    'n_jobs': [6],\n",
    "    'criterion': ['mse']}\n",
    "\n",
    "#lr\n",
    "param_grid={\n",
    "    'fit_intercept':[True],\n",
    "    'normalize':[False, True],\n",
    "    'n_jobs': [6]}\n",
    "\n",
    "#gp\n",
    "param_grid={\n",
    "    'kernel':  [None],\n",
    "    'alpha':  [0.05, 0.1, 0.2, 0.3, 0.5],\n",
    "    'optimizer':  ['fmin_l_bfgs_b'],\n",
    "    'n_restarts_optimizer':  [0],\n",
    "    'normalize_y':  [False, True],\n",
    "    'copy_X_train':  [True],\n",
    "    'random_state':  [None]\n",
    "}\n",
    "\n",
    "\n",
    "# Variables global\n",
    "index = 'Datetime'\n",
    "start_time = '00:00:00'\n",
    "end_time = '23:45:00'\n",
    "time_step_second=15*60\n",
    "\n",
    "# Variables model\n",
    "model_name = 'test'\n",
    "estimator_choice = 'gp'\n",
    "\n",
    "# Variables path\n",
    "path_save = '/home/toque/data2/forecast/model/long-term/scikit-regressor/'\n",
    "\n",
    "# Data files\n",
    "observation_data_path = ['/home/toque/data2/montreal/stm/data/valid_metro_15min_2015_2016_2017_sumpass_nodayfree.csv']\n",
    "features_data_path = ['/home/toque/data2/montreal/events/data/clean/events_2015_2018_end_event_stopid.csv',\n",
    "#                      '/home/toque/data2/montreal/events/data/clean/events_2015_2018_start_event_stopid.csv',\n",
    "#                      '/home/toque/data2/montreal/events/data/clean/events_2015_2018_period_event_stopid.csv',\n",
    "#                      '/home/toque/data2/montreal/events/data/clean/events_2015_2018_end_event_stopid_category.csv',\n",
    "#                      '/home/toque/data2/montreal/events/data/clean/events_2015_2018_start_event_stopid_category.csv',\n",
    "#                      '/home/toque/data2/montreal/events/data/clean/events_2015_2018_period_event_stopid_category.csv',\n",
    "                      '/home/toque/data2/weather/predicted_weather/predicted_weather_2015_2017_included_perday_pm.csv',\n",
    "                      '/home/toque/data2/date/2013-01-01-2019-01-01_new.csv',\n",
    "                      '/home/toque/data2/montreal/stm/data/trend/trend_r_stl_2015-01-01_2018-01-01_freq30.csv']\n"
   ]
  },
  {
   "cell_type": "code",
   "execution_count": null,
   "metadata": {
    "collapsed": true
   },
   "outputs": [],
   "source": [
    "parser = argparse.ArgumentParser(description='Parameters of script fit')\n",
    "parser.add_argument('--config', type=str, help='Yaml file containing the configuration of the model')\n",
    "parser.add_argument('--force', type=bool, help='Boolean: If True force all the saving even if file already exist, if False ask to the user',default=False)\n",
    "args = parser.parse_args()\n",
    "config_file = args.config\n",
    "\n",
    "with open(config_file, 'r') as stream:\n",
    "    try:\n",
    "        config = yaml.load(stream)\n",
    "    except yaml.YAMLError as exc:\n",
    "        print(exc)\n",
    "        \n",
    "        \n",
    "        \n",
    "        \n",
    "force_save = args.force\n",
    "\n",
    "features_time_step = config['features_time_step']\n",
    "features_day = config['features_day']\n",
    "features_todummy = config['features_todummy']\n",
    "time_series = config['time_series']\n",
    "start_datetime = config['start_datetime']\n",
    "end_datetime = config['end_datetime']\n",
    "scaler_choice_X = config['scaler_choice_X']\n",
    "scaler_choice_y = config['scaler_choice_y']\n",
    "start_datetime_optimization = config['start_datetime_optimization']\n",
    "end_datetime_optimization = config['end_datetime_optimization']\n",
    "param_kfold = config['param_kfold']\n",
    "param_grid = config['param_grid']\n",
    "index = config['index']\n",
    "start_time = config['start_time']\n",
    "end_time = config['end_time']\n",
    "time_step_second = config['time_step_second']\n",
    "model_name = config['model_name']\n",
    "estimator_choice = config['estimator_choice']\n",
    "path_save = config['path_save']\n",
    "observation_data_path = config['observation_data_path']\n",
    "features_data_path = config['features_data_path']\n"
   ]
  },
  {
   "cell_type": "code",
   "execution_count": 3,
   "metadata": {
    "collapsed": true
   },
   "outputs": [],
   "source": [
    "path_optimization = path_save+'optimize/{}/'.format(model_name)\n",
    "path_prediction = path_save+'prediction/{}/'.format(model_name)\n",
    "path_fit = path_save+'fit/{}/'.format(model_name)\n",
    "\n",
    "\n",
    "model_infos = {}\n",
    "model_infos['model_name'] = model_name\n",
    "model_infos['estimator_choice'] = estimator_choice\n",
    "\n",
    "model_infos['index'] = index\n",
    "model_infos['start_time'] = start_time\n",
    "model_infos['end_time'] = end_time\n",
    "model_infos['time_step_second'] = time_step_second\n",
    "\n",
    "model_infos['path_save'] = path_save\n",
    "model_infos['path_optimization'] = path_optimization\n",
    "model_infos['path_fit'] = path_fit\n",
    "model_infos['path_prediction'] = path_prediction\n",
    "\n",
    "model_infos['observation_data_path'] = observation_data_path\n",
    "model_infos['features_data_path'] = features_data_path\n",
    "\n",
    "model_infos['param_grid'] = param_grid\n",
    "model_infos['param_kfold'] = param_kfold\n",
    "\n",
    "model_infos['features_time_step'] = features_time_step\n",
    "model_infos['features_day'] = features_day\n",
    "model_infos['features_dummy'] = features_dummy\n",
    "model_infos['time_series'] = time_series\n",
    "model_infos['start_datetime'] = start_datetime\n",
    "model_infos['end_datetime'] = end_datetime\n",
    "model_infos['scaler_choice_X'] = scaler_choice_X\n",
    "model_infos['scaler_choice_y'] = scaler_choice_y\n",
    "model_infos['start_datetime_optimization'] = start_datetime_optimization\n",
    "model_infos['end_datetime_optimization'] = end_datetime_optimization\n",
    "\n",
    "\n",
    "df_obs = utils.read_csv_list(observation_data_path).set_index(index).loc[start_datetime:end_datetime].reset_index()\n",
    "df_fea = utils.read_csv_list(features_data_path).set_index(index).loc[start_datetime:end_datetime].reset_index()"
   ]
  },
  {
   "cell_type": "code",
   "execution_count": 4,
   "metadata": {},
   "outputs": [
    {
     "name": "stderr",
     "output_type": "stream",
     "text": [
      "Days loop: 100%|██████████| 1093/1093 [00:09<00:00, 111.10it/s]\n"
     ]
    }
   ],
   "source": [
    "# Data shaping\n",
    "\n",
    "dfXy, features_time_step_name = utils.create_dfXy_long_term0(df_obs, df_fea, time_series,\n",
    "                                                             features_time_step, features_day,\n",
    "                                                             features_todummy=features_todummy,\n",
    "                                                             index=index, start_time=start_time,\n",
    "                                                             end_time=end_time, time_step_second=time_step_second)\n",
    "\n",
    "X, y_list, X_names, days = utils.create_xy_dataset_long_term0(dfXy, time_series, features_time_step_name=features_time_step_name,\n",
    "                                                  index=index, start_time=start_time, end_time=end_time, reduce=True)\n",
    "\n",
    "#dfX = pd.DataFrame(data = np.concatenate([np.array(days).reshape(1,1093),X.T]).T, columns=['Datetime']+X_names.tolist())\n"
   ]
  },
  {
   "cell_type": "code",
   "execution_count": 5,
   "metadata": {
    "collapsed": true,
    "scrolled": true
   },
   "outputs": [],
   "source": [
    "# Split train - (test)\n",
    "\n",
    "df_train_datetime = dfXy[[index]].copy()\n",
    "df_train_datetime[index] = [i[:10]+' '+start_time for i in df_train_datetime[index]]\n",
    "df_train_datetime = df_train_datetime.drop_duplicates()\n",
    "\n",
    "index_train = len(df_train_datetime.set_index(index).loc[start_datetime_optimization:end_datetime_optimization])\n",
    "\n",
    "X_train, y_list_train, days_train = X[:index_train], y_list[:,:index_train], days[:index_train]\n",
    "#X_test, y_list_test, days_test = X[index_train:], y_list[:,index_train:], days[index_train:]\n",
    "\n",
    "# Scaler\n",
    "# TODO"
   ]
  },
  {
   "cell_type": "code",
   "execution_count": 6,
   "metadata": {},
   "outputs": [
    {
     "name": "stderr",
     "output_type": "stream",
     "text": [
      "Optimization: loop over time-series: 100%|██████████| 5/5 [00:07<00:00,  1.49s/it]\n"
     ]
    }
   ],
   "source": [
    "# Optimize\n",
    "\n",
    "estimator = utils_regressor.get_estimator(estimator_choice)\n",
    "   \n",
    "grid_search_time_series = {}\n",
    "grid_search_time_series = utils_regressor.optimize_multioutput_regressor_multiseries_model(X_train, y_list_train[:5],\n",
    "                                                                           param_grid, param_kfold,\n",
    "                                                                           estimator, verbose=0)\n",
    "\n",
    "utils.save_pickle_safe(path_optimization+'grid_search_time_series.pkl', grid_search_time_series, force_save=force_save)\n",
    "utils.save_pickle_safe(path_optimization+'model_infos.pkl', model_infos, force_save=force_save)"
   ]
  },
  {
   "cell_type": "code",
   "execution_count": 7,
   "metadata": {},
   "outputs": [
    {
     "name": "stderr",
     "output_type": "stream",
     "text": [
      "Fit: loop over time-series: 100%|██████████| 5/5 [00:00<00:00, 10.45it/s]\n"
     ]
    }
   ],
   "source": [
    "# Fit\n",
    "\n",
    "# Create manually the best_params\n",
    "#dict[int]['best_params_']\n",
    "#best_params = {'alpha': 0.2,'copy_X_train': True, 'kernel': None, 'n_restarts_optimizer': 0, 'normalize_y': True,\n",
    "#               'optimizer': 'fmin_l_bfgs_b','random_state': None}\n",
    "#best_params_time_series = {i : {'best_params':best_params} for i in np.arange(len(time_series))}\n",
    "\n",
    "grid_search_time_series = utils.load_pickle(path_optimization+'grid_search_time_series.pkl')\n",
    "best_params_time_series = grid_search_time_series\n",
    "\n",
    "estimator_time_series = utils_regressor.fit_multioutput_regressor_multiseries_model(X_train, y_list_train[:5], estimator_choice, best_params_time_series)   "
   ]
  },
  {
   "cell_type": "code",
   "execution_count": 14,
   "metadata": {},
   "outputs": [
    {
     "name": "stderr",
     "output_type": "stream",
     "text": [
      "Predict: loop over time-series: 100%|██████████| 5/5 [00:00<00:00,  7.63it/s]\n"
     ]
    }
   ],
   "source": [
    "# Predict\n",
    "\n",
    "pred = utils_regressor.predict_multioutput_regressor_multiseries_model(X, estimator_time_series)\n",
    "df = utils.pred_day_array_to_df(pred, time_series[:5], days, time_step_second=15*60, index='Datetime')\n",
    "\n",
    "utils.df_to_csv_safe(path_prediction+start_datetime[:10]+'_'+end_datetime[:10]+'.csv', df, force_save=force_save)"
   ]
  }
 ],
 "metadata": {
  "kernelspec": {
   "display_name": "Python 3.5 - env",
   "language": "python",
   "name": "py35"
  },
  "language_info": {
   "codemirror_mode": {
    "name": "ipython",
    "version": 3
   },
   "file_extension": ".py",
   "mimetype": "text/x-python",
   "name": "python",
   "nbconvert_exporter": "python",
   "pygments_lexer": "ipython3",
   "version": "3.5.4"
  }
 },
 "nbformat": 4,
 "nbformat_minor": 2
}
