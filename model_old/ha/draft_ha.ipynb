{
 "cells": [
  {
   "cell_type": "code",
   "execution_count": 77,
   "metadata": {
    "collapsed": true
   },
   "outputs": [],
   "source": [
    "import sys\n",
    "sys.path.insert(0, '../')\n",
    "from forecast_model import Forecast_model\n",
    "\n",
    "import pandas as pd\n",
    "import numpy as np\n",
    "import copy\n",
    "from tqdm import tqdm\n",
    "from scipy import spatial\n",
    "try:\n",
    "    import cPickle as pickle\n",
    "except:\n",
    "    import pickle\n",
    "\n",
    "class Ha_model(Forecast_model):\n",
    "\n",
    "\n",
    "    def __init__(self, nom: str):\n",
    "        Forecast_model.__init__(self, nom)\n",
    "        self.start_date = ''\n",
    "        self.end_date = ''\n",
    "        self.features = []\n",
    "        self.time_series = []\n",
    "        self.df_observation_path = ''\n",
    "        self.df_date_path = ''\n",
    "\n",
    "\n",
    "    def __str__(self):\n",
    "        return \"Description of model: %s\\n\" \\\n",
    "               \"Learning start date: %s\\n\" \\\n",
    "               \"Learning end date: %s\\n\" \\\n",
    "               \"Features: %s\\n\" \\\n",
    "               \"Learned time series: %s\\n\" \\\n",
    "               \"Training data path: %s\\n\" \\\n",
    "               \"Training exogenous data (date) path: %s\" % (self.name, self.start_date, self.end_date,\n",
    "                                                           \",\".join(str(x) for x in self.features),\n",
    "                                                           \",\".join(str(x) for x in self.time_series),\n",
    "                                                           self.df_observation_path, self.df_date_path)\n",
    "\n",
    "\n",
    "    def learn(self, df_observation_path, df_date_path, start_date, end_date, features, time_series):\n",
    "        self.start_date = start_date\n",
    "        self.end_date = end_date\n",
    "        self.features = features\n",
    "        self.time_series = time_series\n",
    "        self.df_observation_path = df_observation_path\n",
    "        self.df_date_path = df_date_path\n",
    "\n",
    "        print('Read data: observation and date')\n",
    "        df_observation = pd.read_csv(df_observation_path).set_index(\"Datetime\")\n",
    "        df_date = pd.read_csv(df_date_path).set_index(\"Datetime\")[features]\n",
    "        df_observation = df_observation[start_date:end_date][time_series]\n",
    "        df_observation = df_observation.join(df_date[start_date:end_date])\n",
    "        \n",
    "\n",
    "        print('Progress Bar 1/2 : learning mean')\n",
    "        self.dict_pred_mean = dict([(tuple(np.array(i[:len(features)]).astype(int)), i[len(features):].astype(float))\n",
    "                                    for i in tqdm(df_observation.groupby(features).mean().reset_index().values)])\n",
    "\n",
    "        print('Progress Bar 2/2 : learning median')\n",
    "        self.dict_pred_median = dict([(tuple(np.array(i[:len(features)]).astype(int)), i[len(features):].astype(float))\n",
    "                                      for i in tqdm(df_observation.groupby(features).median().reset_index().values)])\n",
    "        print('End of Learning')\n",
    "        return                    "
   ]
  },
  {
   "cell_type": "code",
   "execution_count": 78,
   "metadata": {
    "collapsed": true
   },
   "outputs": [],
   "source": [
    "my_model = Ha_model('my_ha_model')"
   ]
  },
  {
   "cell_type": "code",
   "execution_count": 79,
   "metadata": {},
   "outputs": [
    {
     "name": "stdout",
     "output_type": "stream",
     "text": [
      "Description of model: my_ha_model\n",
      "Learning start date: \n",
      "Learning end date: \n",
      "Features: \n",
      "Learned time series: \n",
      "Training data path: \n",
      "Training exogenous data (date) path: \n"
     ]
    }
   ],
   "source": [
    "print(my_model)"
   ]
  },
  {
   "cell_type": "code",
   "execution_count": 25,
   "metadata": {},
   "outputs": [
    {
     "name": "stdout",
     "output_type": "stream",
     "text": [
      "['11', '32', '34', '15', '44', '65', '31', '33', '35', '47', '13', '14', '1', '9', '5', '18', '36', '24', '68', '43', '8', '64', '10', '55', '3', '49', '51', '2', '19', '56', '7', '6', '4', '48', '66', '25', '23', '28', '39', '54', '60', '27', '20', '46', '12', '21', '62', '52', '41', '50', '30', '16', '37', '40', '26', '67', '57', '61', '42', '45', '38', '29', '58', '63', '22', '59', '53', '17']\n"
     ]
    }
   ],
   "source": [
    "df_sta_info_path = \"../../../../data2/montreal/stm/data/station_info.csv\"\n",
    "df_i = pd.read_csv(df_sta_info_path)\n",
    "print(df_i['stop_id'].values.astype('str').tolist())"
   ]
  },
  {
   "cell_type": "code",
   "execution_count": 80,
   "metadata": {
    "collapsed": true
   },
   "outputs": [],
   "source": [
    "df_observation_path = '/home/toque/data2/montreal/stm/data/valid_metro_15min_2015_2016_2017_sumpass.csv'\n",
    "df_date_path = '/home/toque/data/data_clean/date/2013-01-01-2019-01-01_new.csv'\n",
    "start_date = '2015-01-01'\n",
    "end_date = '2017-01-01'\n",
    "features = [\"hms_int_15min\",\"Day_id\"]\n",
    "time_series = ['11', '32', '34', '15', '44', '65', '31', '33', '35', '47', '13', '14',\n",
    "               '1', '9', '5', '18', '36', '24', '68', '43', '8', '64', '10', '55', '3',\n",
    "               '49', '51', '2', '19', '56', '7', '6', '4', '48', '66', '25', '23', '28',\n",
    "               '39', '54', '60', '27', '20', '46', '12', '21', '62', '52', '41', '50', '30',\n",
    "               '16', '37', '40', '26', '67', '57', '61', '42', '45', '38', '29', '58', '63',\n",
    "               '22', '59', '53', '17']"
   ]
  },
  {
   "cell_type": "code",
   "execution_count": 81,
   "metadata": {},
   "outputs": [
    {
     "name": "stdout",
     "output_type": "stream",
     "text": [
      "Read data: observation and date\n"
     ]
    },
    {
     "name": "stderr",
     "output_type": "stream",
     "text": [
      "100%|██████████| 608/608 [00:00<00:00, 218408.43it/s]\n",
      "100%|██████████| 608/608 [00:00<00:00, 219008.66it/s]"
     ]
    },
    {
     "name": "stdout",
     "output_type": "stream",
     "text": [
      "Progress Bar 1/2 : learning mean\n",
      "Progress Bar 2/2 : learning median\n",
      "End of Learning\n"
     ]
    },
    {
     "name": "stderr",
     "output_type": "stream",
     "text": [
      "\n"
     ]
    }
   ],
   "source": [
    "my_model.learn(df_observation_path, df_date_path, start_date, end_date, features, time_series)"
   ]
  },
  {
   "cell_type": "code",
   "execution_count": null,
   "metadata": {
    "collapsed": true
   },
   "outputs": [],
   "source": []
  },
  {
   "cell_type": "code",
   "execution_count": null,
   "metadata": {
    "collapsed": true
   },
   "outputs": [],
   "source": []
  },
  {
   "cell_type": "code",
   "execution_count": null,
   "metadata": {
    "collapsed": true
   },
   "outputs": [],
   "source": []
  },
  {
   "cell_type": "code",
   "execution_count": 107,
   "metadata": {
    "collapsed": true
   },
   "outputs": [],
   "source": []
  },
  {
   "cell_type": "code",
   "execution_count": 113,
   "metadata": {},
   "outputs": [
    {
     "ename": "AttributeError",
     "evalue": "'dict' object has no attribute 'df_date_path'",
     "output_type": "error",
     "traceback": [
      "\u001b[0;31m---------------------------------------------------------------------------\u001b[0m",
      "\u001b[0;31mAttributeError\u001b[0m                            Traceback (most recent call last)",
      "\u001b[0;32m<ipython-input-113-e1ec187fd6f2>\u001b[0m in \u001b[0;36m<module>\u001b[0;34m()\u001b[0m\n\u001b[0;32m----> 1\u001b[0;31m \u001b[0mconfig\u001b[0m\u001b[0;34m.\u001b[0m\u001b[0mdf_date_path\u001b[0m\u001b[0;34m\u001b[0m\u001b[0m\n\u001b[0m",
      "\u001b[0;31mAttributeError\u001b[0m: 'dict' object has no attribute 'df_date_path'"
     ]
    }
   ],
   "source": [
    "import yaml\n",
    "import argparse\n",
    "\n",
    "import os\n",
    "import sys\n",
    "sys.path.insert(0, '../utils/')\n",
    "from utils import *\n",
    "\n",
    "\"\"\"\n",
    "    Load configuration of the model from yaml file\n",
    "\"\"\"\n",
    "\n",
    "#parser = argparse.ArgumentParser(description='Process some integers.')\n",
    "#parser.add_argument('--config', type=str, help='Yaml file containing the configuration of the model')\n",
    "#config_file = parser.parse_args(['--config'])\n",
    "\n",
    "config_file = 'config.yaml'\n",
    "with open(config_file, 'r') as stream:\n",
    "    try:\n",
    "        config = yaml.load(stream)\n",
    "    except yaml.YAMLError as exc:\n",
    "        print(exc)\n",
    "        \n",
    "        \n",
    "df_observation_path = config['df_observation_path']\n",
    "df_date_path = config['df_date_path']\n",
    "features = config['features']\n",
    "stations = config['stations']\n",
    "model_name = config['model_name']\n",
    "start_date = config['start_date']\n",
    "end_date = config['end_date']\n",
    "path_to_save = config['path_to_save']\n",
    "path_directory_to_save = path_to_save + model_name + '/'\n",
    "\n",
    "\n",
    "print(\"You are going to create the model: %s\", % (model_name))\n",
    "\n",
    "create_model = True\n",
    "if os.path.exists(path_directory_to_save):\n",
    "    create_model = yes_or_no(\"WARNING !!!!!!!\\nThe model %s saved in path: %s already exists.\\nDo you want to erase and replace it?\")\n",
    "\n",
    "if create_model:\n",
    "    my_model = Ha_model(model_name)\n",
    "    print(\"Creation of the model done\")\n",
    "\n",
    "    print(\"Learning the model..\")\n",
    "    my_model.fit(df_valid_path, df_date_path, start_date, end_date, features, time_series)\n",
    "    print(\"Learning done\")\n",
    "\n",
    "    print(\"Saving models..\")\n",
    "    my_model.save(path_directory_to_save, os.getcwd()+\"/\"+config_file)\n",
    "    print(\"Saving models done\")\n"
   ]
  },
  {
   "cell_type": "code",
   "execution_count": 115,
   "metadata": {
    "collapsed": true
   },
   "outputs": [],
   "source": [
    "def yes_or_no(question):\n",
    "    while \"The answer is invalid\":\n",
    "        reply = str(input(question+' (y/n): ')).lower().strip()\n",
    "        if reply[:1] == 'y':\n",
    "            return True\n",
    "        if reply[:1] == 'n':\n",
    "            return False"
   ]
  },
  {
   "cell_type": "code",
   "execution_count": 130,
   "metadata": {},
   "outputs": [
    {
     "name": "stdout",
     "output_type": "stream",
     "text": [
      "Do you want to continue (y/n): n\n"
     ]
    },
    {
     "ename": "SystemExit",
     "evalue": "",
     "output_type": "error",
     "traceback": [
      "An exception has occurred, use %tb to see the full traceback.\n",
      "\u001b[0;31mSystemExit\u001b[0m\n"
     ]
    },
    {
     "name": "stderr",
     "output_type": "stream",
     "text": [
      "/opt/conda/envs/py35/lib/python3.5/site-packages/IPython/core/interactiveshell.py:2870: UserWarning: To exit: use 'exit', 'quit', or Ctrl-D.\n",
      "  warn(\"To exit: use 'exit', 'quit', or Ctrl-D.\", stacklevel=1)\n"
     ]
    }
   ],
   "source": [
    "\n",
    "if yes_or_no(\"Do you want to continue\"):\n",
    "    print(' ok')\n",
    "else:\n",
    "    sys.exit()\n",
    "\n",
    "print('10')"
   ]
  },
  {
   "cell_type": "code",
   "execution_count": 124,
   "metadata": {},
   "outputs": [
    {
     "name": "stdout",
     "output_type": "stream",
     "text": [
      "do you want to continue (y/n): yn\n",
      " ok\n",
      "10\n"
     ]
    }
   ],
   "source": [
    "test()"
   ]
  },
  {
   "cell_type": "code",
   "execution_count": 133,
   "metadata": {
    "collapsed": true
   },
   "outputs": [],
   "source": [
    "import os\n",
    "dir_path = os.getcwd()"
   ]
  },
  {
   "cell_type": "code",
   "execution_count": 134,
   "metadata": {},
   "outputs": [
    {
     "data": {
      "text/plain": [
       "'/home/toque/work/forecast/model/ha'"
      ]
     },
     "execution_count": 134,
     "metadata": {},
     "output_type": "execute_result"
    }
   ],
   "source": [
    "dir_path"
   ]
  },
  {
   "cell_type": "code",
   "execution_count": 1,
   "metadata": {
    "collapsed": true
   },
   "outputs": [],
   "source": [
    "import pandas as pd"
   ]
  },
  {
   "cell_type": "code",
   "execution_count": 3,
   "metadata": {},
   "outputs": [],
   "source": [
    "obs = pd.read_csv('/home/toque/data2/montreal/stm/data/valid_metro_15min_2015_2016_2017_sumpass.csv')\n",
    "exo = pd.read_csv('/home/toque/data2/date/2013-01-01-2019-01-01_new.csv')"
   ]
  },
  {
   "cell_type": "code",
   "execution_count": 29,
   "metadata": {
    "collapsed": true
   },
   "outputs": [],
   "source": [
    "import numpy as np"
   ]
  },
  {
   "cell_type": "code",
   "execution_count": 40,
   "metadata": {},
   "outputs": [
    {
     "data": {
      "text/html": [
       "<div>\n",
       "<table border=\"1\" class=\"dataframe\">\n",
       "  <thead>\n",
       "    <tr style=\"text-align: right;\">\n",
       "      <th></th>\n",
       "      <th>Datetime</th>\n",
       "      <th>11</th>\n",
       "      <th>32</th>\n",
       "      <th>34</th>\n",
       "      <th>15</th>\n",
       "      <th>44</th>\n",
       "      <th>65</th>\n",
       "      <th>31</th>\n",
       "      <th>33</th>\n",
       "      <th>35</th>\n",
       "      <th>...</th>\n",
       "      <th>42</th>\n",
       "      <th>45</th>\n",
       "      <th>38</th>\n",
       "      <th>29</th>\n",
       "      <th>58</th>\n",
       "      <th>63</th>\n",
       "      <th>22</th>\n",
       "      <th>59</th>\n",
       "      <th>53</th>\n",
       "      <th>17</th>\n",
       "    </tr>\n",
       "  </thead>\n",
       "  <tbody>\n",
       "    <tr>\n",
       "      <th>0</th>\n",
       "      <td>2015-01-01 00:00:00</td>\n",
       "      <td>19.15</td>\n",
       "      <td>6.02</td>\n",
       "      <td>12.31</td>\n",
       "      <td>8.48</td>\n",
       "      <td>2.87</td>\n",
       "      <td>3.42</td>\n",
       "      <td>5.74</td>\n",
       "      <td>6.43</td>\n",
       "      <td>6.84</td>\n",
       "      <td>...</td>\n",
       "      <td>0.82</td>\n",
       "      <td>2.05</td>\n",
       "      <td>0.96</td>\n",
       "      <td>2.19</td>\n",
       "      <td>0.82</td>\n",
       "      <td>0.27</td>\n",
       "      <td>4.92</td>\n",
       "      <td>0.55</td>\n",
       "      <td>1.23</td>\n",
       "      <td>0.27</td>\n",
       "    </tr>\n",
       "    <tr>\n",
       "      <th>1</th>\n",
       "      <td>2015-01-01 00:15:00</td>\n",
       "      <td>29.54</td>\n",
       "      <td>4.24</td>\n",
       "      <td>14.77</td>\n",
       "      <td>4.92</td>\n",
       "      <td>3.83</td>\n",
       "      <td>5.20</td>\n",
       "      <td>5.61</td>\n",
       "      <td>7.25</td>\n",
       "      <td>5.47</td>\n",
       "      <td>...</td>\n",
       "      <td>2.05</td>\n",
       "      <td>15.18</td>\n",
       "      <td>1.64</td>\n",
       "      <td>7.25</td>\n",
       "      <td>2.32</td>\n",
       "      <td>0.96</td>\n",
       "      <td>9.16</td>\n",
       "      <td>0.27</td>\n",
       "      <td>2.74</td>\n",
       "      <td>1.50</td>\n",
       "    </tr>\n",
       "    <tr>\n",
       "      <th>2</th>\n",
       "      <td>2015-01-01 00:30:00</td>\n",
       "      <td>83.97</td>\n",
       "      <td>5.33</td>\n",
       "      <td>13.68</td>\n",
       "      <td>5.74</td>\n",
       "      <td>1.78</td>\n",
       "      <td>0.55</td>\n",
       "      <td>17.51</td>\n",
       "      <td>8.48</td>\n",
       "      <td>6.70</td>\n",
       "      <td>...</td>\n",
       "      <td>0.82</td>\n",
       "      <td>5.20</td>\n",
       "      <td>3.56</td>\n",
       "      <td>8.21</td>\n",
       "      <td>0.00</td>\n",
       "      <td>0.00</td>\n",
       "      <td>5.47</td>\n",
       "      <td>0.00</td>\n",
       "      <td>0.82</td>\n",
       "      <td>1.23</td>\n",
       "    </tr>\n",
       "  </tbody>\n",
       "</table>\n",
       "<p>3 rows × 69 columns</p>\n",
       "</div>"
      ],
      "text/plain": [
       "              Datetime     11    32     34    15    44    65     31    33  \\\n",
       "0  2015-01-01 00:00:00  19.15  6.02  12.31  8.48  2.87  3.42   5.74  6.43   \n",
       "1  2015-01-01 00:15:00  29.54  4.24  14.77  4.92  3.83  5.20   5.61  7.25   \n",
       "2  2015-01-01 00:30:00  83.97  5.33  13.68  5.74  1.78  0.55  17.51  8.48   \n",
       "\n",
       "     35  ...     42     45    38    29    58    63    22    59    53    17  \n",
       "0  6.84  ...   0.82   2.05  0.96  2.19  0.82  0.27  4.92  0.55  1.23  0.27  \n",
       "1  5.47  ...   2.05  15.18  1.64  7.25  2.32  0.96  9.16  0.27  2.74  1.50  \n",
       "2  6.70  ...   0.82   5.20  3.56  8.21  0.00  0.00  5.47  0.00  0.82  1.23  \n",
       "\n",
       "[3 rows x 69 columns]"
      ]
     },
     "execution_count": 40,
     "metadata": {},
     "output_type": "execute_result"
    }
   ],
   "source": [
    "b = obs.head(3)\n",
    "b = b.set_index(\"Datetime\")\n",
    "d = np.around((b.values/3*np.random.rand()), 2)\n",
    "b[:] = d\n",
    "b.reset_index()"
   ]
  },
  {
   "cell_type": "code",
   "execution_count": 47,
   "metadata": {},
   "outputs": [
    {
     "name": "stdout",
     "output_type": "stream",
     "text": [
      "hello\n"
     ]
    }
   ],
   "source": [
    "for i in np.arange(1):\n",
    "    print('hello')"
   ]
  },
  {
   "cell_type": "code",
   "execution_count": 19,
   "metadata": {},
   "outputs": [],
   "source": [
    "a = exo.head(3)[['Datetime','Day_id','hms_int_15min','Vacances','Ferie','Mois_id']]"
   ]
  },
  {
   "cell_type": "code",
   "execution_count": 21,
   "metadata": {},
   "outputs": [],
   "source": [
    "a.columns=['Datetime','day_id','timestep_id','school_holiday','holiday','month_id']"
   ]
  },
  {
   "cell_type": "code",
   "execution_count": 23,
   "metadata": {},
   "outputs": [
    {
     "data": {
      "text/html": [
       "<div>\n",
       "<table border=\"1\" class=\"dataframe\">\n",
       "  <thead>\n",
       "    <tr style=\"text-align: right;\">\n",
       "      <th></th>\n",
       "      <th>Datetime</th>\n",
       "      <th>month_id</th>\n",
       "      <th>day_id</th>\n",
       "      <th>timestep_id</th>\n",
       "      <th>school_holiday</th>\n",
       "      <th>holiday</th>\n",
       "    </tr>\n",
       "  </thead>\n",
       "  <tbody>\n",
       "    <tr>\n",
       "      <th>0</th>\n",
       "      <td>2013-01-01 00:00:00</td>\n",
       "      <td>1</td>\n",
       "      <td>1</td>\n",
       "      <td>0</td>\n",
       "      <td>1</td>\n",
       "      <td>1</td>\n",
       "    </tr>\n",
       "    <tr>\n",
       "      <th>1</th>\n",
       "      <td>2013-01-01 00:15:00</td>\n",
       "      <td>1</td>\n",
       "      <td>1</td>\n",
       "      <td>1</td>\n",
       "      <td>1</td>\n",
       "      <td>1</td>\n",
       "    </tr>\n",
       "    <tr>\n",
       "      <th>2</th>\n",
       "      <td>2013-01-01 00:30:00</td>\n",
       "      <td>1</td>\n",
       "      <td>1</td>\n",
       "      <td>2</td>\n",
       "      <td>1</td>\n",
       "      <td>1</td>\n",
       "    </tr>\n",
       "  </tbody>\n",
       "</table>\n",
       "</div>"
      ],
      "text/plain": [
       "              Datetime  month_id  day_id  timestep_id  school_holiday  holiday\n",
       "0  2013-01-01 00:00:00         1       1            0               1        1\n",
       "1  2013-01-01 00:15:00         1       1            1               1        1\n",
       "2  2013-01-01 00:30:00         1       1            2               1        1"
      ]
     },
     "execution_count": 23,
     "metadata": {},
     "output_type": "execute_result"
    }
   ],
   "source": [
    "a[['Datetime', 'month_id', 'day_id', 'timestep_id', 'school_holiday', 'holiday' ]]"
   ]
  },
  {
   "cell_type": "code",
   "execution_count": 48,
   "metadata": {},
   "outputs": [
    {
     "data": {
      "text/html": [
       "<div>\n",
       "<table border=\"1\" class=\"dataframe\">\n",
       "  <thead>\n",
       "    <tr style=\"text-align: right;\">\n",
       "      <th></th>\n",
       "      <th>Datetime</th>\n",
       "      <th>day_id</th>\n",
       "      <th>timestep_id</th>\n",
       "      <th>school_holiday</th>\n",
       "      <th>holiday</th>\n",
       "      <th>month_id</th>\n",
       "    </tr>\n",
       "  </thead>\n",
       "  <tbody>\n",
       "    <tr>\n",
       "      <th>0</th>\n",
       "      <td>2013-01-01 00:00:00</td>\n",
       "      <td>1</td>\n",
       "      <td>0</td>\n",
       "      <td>1</td>\n",
       "      <td>1</td>\n",
       "      <td>1</td>\n",
       "    </tr>\n",
       "    <tr>\n",
       "      <th>1</th>\n",
       "      <td>2013-01-01 00:15:00</td>\n",
       "      <td>1</td>\n",
       "      <td>1</td>\n",
       "      <td>1</td>\n",
       "      <td>1</td>\n",
       "      <td>1</td>\n",
       "    </tr>\n",
       "    <tr>\n",
       "      <th>2</th>\n",
       "      <td>2013-01-01 00:30:00</td>\n",
       "      <td>1</td>\n",
       "      <td>2</td>\n",
       "      <td>1</td>\n",
       "      <td>1</td>\n",
       "      <td>1</td>\n",
       "    </tr>\n",
       "  </tbody>\n",
       "</table>\n",
       "</div>"
      ],
      "text/plain": [
       "              Datetime  day_id  timestep_id  school_holiday  holiday  month_id\n",
       "0  2013-01-01 00:00:00       1            0               1        1         1\n",
       "1  2013-01-01 00:15:00       1            1               1        1         1\n",
       "2  2013-01-01 00:30:00       1            2               1        1         1"
      ]
     },
     "execution_count": 48,
     "metadata": {},
     "output_type": "execute_result"
    }
   ],
   "source": [
    "a"
   ]
  },
  {
   "cell_type": "code",
   "execution_count": 50,
   "metadata": {},
   "outputs": [],
   "source": [
    "a = a.set_index('Datetime')"
   ]
  },
  {
   "cell_type": "code",
   "execution_count": 52,
   "metadata": {},
   "outputs": [
    {
     "data": {
      "text/html": [
       "<div>\n",
       "<table border=\"1\" class=\"dataframe\">\n",
       "  <thead>\n",
       "    <tr style=\"text-align: right;\">\n",
       "      <th></th>\n",
       "      <th>day_id</th>\n",
       "      <th>timestep_id</th>\n",
       "      <th>school_holiday</th>\n",
       "      <th>holiday</th>\n",
       "      <th>month_id</th>\n",
       "    </tr>\n",
       "    <tr>\n",
       "      <th>Datetime</th>\n",
       "      <th></th>\n",
       "      <th></th>\n",
       "      <th></th>\n",
       "      <th></th>\n",
       "      <th></th>\n",
       "    </tr>\n",
       "  </thead>\n",
       "  <tbody>\n",
       "    <tr>\n",
       "      <th>2013-01-01 00:00:00</th>\n",
       "      <td>1</td>\n",
       "      <td>0</td>\n",
       "      <td>1</td>\n",
       "      <td>1</td>\n",
       "      <td>1</td>\n",
       "    </tr>\n",
       "    <tr>\n",
       "      <th>2013-01-01 00:15:00</th>\n",
       "      <td>1</td>\n",
       "      <td>1</td>\n",
       "      <td>1</td>\n",
       "      <td>1</td>\n",
       "      <td>1</td>\n",
       "    </tr>\n",
       "    <tr>\n",
       "      <th>2013-01-01 00:30:00</th>\n",
       "      <td>1</td>\n",
       "      <td>2</td>\n",
       "      <td>1</td>\n",
       "      <td>1</td>\n",
       "      <td>1</td>\n",
       "    </tr>\n",
       "  </tbody>\n",
       "</table>\n",
       "</div>"
      ],
      "text/plain": [
       "                     day_id  timestep_id  school_holiday  holiday  month_id\n",
       "Datetime                                                                   \n",
       "2013-01-01 00:00:00       1            0               1        1         1\n",
       "2013-01-01 00:15:00       1            1               1        1         1\n",
       "2013-01-01 00:30:00       1            2               1        1         1"
      ]
     },
     "execution_count": 52,
     "metadata": {},
     "output_type": "execute_result"
    }
   ],
   "source": [
    "a.join([])\n"
   ]
  },
  {
   "cell_type": "code",
   "execution_count": null,
   "metadata": {
    "collapsed": true
   },
   "outputs": [],
   "source": []
  }
 ],
 "metadata": {
  "kernelspec": {
   "display_name": "Python 3.5 - env",
   "language": "python",
   "name": "py35"
  },
  "language_info": {
   "codemirror_mode": {
    "name": "ipython",
    "version": 3
   },
   "file_extension": ".py",
   "mimetype": "text/x-python",
   "name": "python",
   "nbconvert_exporter": "python",
   "pygments_lexer": "ipython3",
   "version": "3.5.4"
  }
 },
 "nbformat": 4,
 "nbformat_minor": 2
}
