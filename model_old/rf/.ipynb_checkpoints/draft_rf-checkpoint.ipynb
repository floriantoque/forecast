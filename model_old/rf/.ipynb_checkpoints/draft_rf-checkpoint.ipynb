{
 "cells": [
  {
   "cell_type": "code",
   "execution_count": 88,
   "metadata": {
    "collapsed": true
   },
   "outputs": [],
   "source": [
    "import sys\n",
    "sys.path.insert(0, '../../utils/')\n",
    "from utils import *\n",
    "from pylab import *\n",
    "import pickle\n"
   ]
  },
  {
   "cell_type": "code",
   "execution_count": 115,
   "metadata": {},
   "outputs": [
    {
     "data": {
      "text/plain": [
       "True"
      ]
     },
     "execution_count": 115,
     "metadata": {},
     "output_type": "execute_result"
    }
   ],
   "source": [
    "bool(1)!= None"
   ]
  },
  {
   "cell_type": "code",
   "execution_count": 84,
   "metadata": {
    "collapsed": true
   },
   "outputs": [],
   "source": [
    "import sys\n",
    "\n",
    "def get_size(obj, seen=None):\n",
    "    \"\"\"Recursively finds size of objects\"\"\"\n",
    "    size = sys.getsizeof(obj)\n",
    "    if seen is None:\n",
    "        seen = set()\n",
    "    obj_id = id(obj)\n",
    "    if obj_id in seen:\n",
    "        return 0\n",
    "    # Important mark as seen *before* entering recursion to gracefully handle\n",
    "    # self-referential objects\n",
    "    seen.add(obj_id)\n",
    "    if isinstance(obj, dict):\n",
    "        size += sum([get_size(v, seen) for v in obj.values()])\n",
    "        size += sum([get_size(k, seen) for k in obj.keys()])\n",
    "    elif hasattr(obj, '__dict__'):\n",
    "        size += get_size(obj.__dict__, seen)\n",
    "    elif hasattr(obj, '__iter__') and not isinstance(obj, (str, bytes, bytearray)):\n",
    "        size += sum([get_size(i, seen) for i in obj])\n",
    "    return size"
   ]
  },
  {
   "cell_type": "code",
   "execution_count": 86,
   "metadata": {
    "collapsed": true
   },
   "outputs": [],
   "source": [
    "grid_search_dict = load_pickle(\"/home/toque/data2/forecast/model/rf/optimize/rf_lt_mtl/grid_search_dict.pkl\")"
   ]
  },
  {
   "cell_type": "code",
   "execution_count": 109,
   "metadata": {
    "collapsed": true
   },
   "outputs": [],
   "source": [
    "import numpy as np \n",
    "A = np.ones(1000000)"
   ]
  },
  {
   "cell_type": "code",
   "execution_count": 106,
   "metadata": {
    "collapsed": true
   },
   "outputs": [],
   "source": [
    "def save_pickle(path, obj):\n",
    "    with open(path, 'wb') as pickle_file:\n",
    "        pickle.dump(obj, pickle_file, protocol=pickle.HIGHEST_PROTOCOL)"
   ]
  },
  {
   "cell_type": "code",
   "execution_count": 113,
   "metadata": {},
   "outputs": [
    {
     "name": "stdout",
     "output_type": "stream",
     "text": [
      "8000.161 mo\n"
     ]
    }
   ],
   "source": [
    "size = len(pickle.dumps(A, protocol=pickle.HIGHEST_PROTOCOL))\n",
    "print(size/1000, 'mo')\n",
    "save_pickle('tmp.pkl', A)"
   ]
  },
  {
   "cell_type": "code",
   "execution_count": 65,
   "metadata": {
    "collapsed": true
   },
   "outputs": [],
   "source": [
    "features0 = list(grid_search_dict.keys())[0]\n",
    "grid_search = grid_search_dict[features0]"
   ]
  },
  {
   "cell_type": "code",
   "execution_count": 66,
   "metadata": {},
   "outputs": [
    {
     "name": "stdout",
     "output_type": "stream",
     "text": [
      "{'n_estimators': 20, 'max_depth': None, 'max_features': 'auto', 'n_jobs': 6, 'criterion': 'mse', 'min_samples_leaf': 5} \n",
      "-----------------------\n",
      "\n",
      "-0.139068181092 \n",
      "-----------------------\n",
      "\n",
      "{'mean_test_score': array([-0.14285763, -0.14228802, -0.14060899, -0.13906818]), 'std_score_time': array([ 0.00903141,  0.05206192,  0.00724733,  0.0624373 ]), 'param_n_estimators': masked_array(data = [10 20 10 20],\n",
      "             mask = [False False False False],\n",
      "       fill_value = ?)\n",
      ", 'param_n_jobs': masked_array(data = [6 6 6 6],\n",
      "             mask = [False False False False],\n",
      "       fill_value = ?)\n",
      ", 'std_train_score': array([ 0.00085858,  0.00074564,  0.00046914,  0.00042164]), 'param_criterion': masked_array(data = ['mse' 'mse' 'mse' 'mse'],\n",
      "             mask = [False False False False],\n",
      "       fill_value = ?)\n",
      ", 'split1_test_score': array([-0.14417106, -0.14331345, -0.14169693, -0.14000838]), 'split0_test_score': array([-0.14154425, -0.14126262, -0.13952108, -0.13812801]), 'std_test_score': array([ 0.00131341,  0.00102542,  0.00108792,  0.00094018]), 'param_max_features': masked_array(data = ['auto' 'auto' 'auto' 'auto'],\n",
      "             mask = [False False False False],\n",
      "       fill_value = ?)\n",
      ", 'mean_fit_time': array([ 0.34163189,  0.63509202,  0.3480835 ,  0.57794988]), 'param_max_depth': masked_array(data = [None None None None],\n",
      "             mask = [False False False False],\n",
      "       fill_value = ?)\n",
      ", 'rank_test_score': array([4, 3, 2, 1], dtype=int32), 'mean_train_score': array([-0.10342107, -0.10203977, -0.11160087, -0.11054565]), 'param_min_samples_leaf': masked_array(data = [3 3 5 5],\n",
      "             mask = [False False False False],\n",
      "       fill_value = ?)\n",
      ", 'mean_score_time': array([ 0.12319577,  0.183092  ,  0.12248051,  0.17266107]), 'params': [{'n_estimators': 10, 'max_depth': None, 'max_features': 'auto', 'n_jobs': 6, 'criterion': 'mse', 'min_samples_leaf': 3}, {'n_estimators': 20, 'max_depth': None, 'max_features': 'auto', 'n_jobs': 6, 'criterion': 'mse', 'min_samples_leaf': 3}, {'n_estimators': 10, 'max_depth': None, 'max_features': 'auto', 'n_jobs': 6, 'criterion': 'mse', 'min_samples_leaf': 5}, {'n_estimators': 20, 'max_depth': None, 'max_features': 'auto', 'n_jobs': 6, 'criterion': 'mse', 'min_samples_leaf': 5}], 'std_fit_time': array([ 0.01892209,  0.04851103,  0.02146745,  0.01351678]), 'split1_train_score': array([-0.10256249, -0.10129414, -0.11113173, -0.11012402]), 'split0_train_score': array([-0.10427964, -0.10278541, -0.11207001, -0.11096729])}\n"
     ]
    }
   ],
   "source": [
    "print(grid_search.best_params_, \"\\n-----------------------\\n\")\n",
    "print(grid_search.best_score_, \"\\n-----------------------\\n\")\n",
    "print(grid_search.cv_results_)"
   ]
  },
  {
   "cell_type": "code",
   "execution_count": 75,
   "metadata": {
    "collapsed": true
   },
   "outputs": [],
   "source": []
  },
  {
   "cell_type": "code",
   "execution_count": 76,
   "metadata": {
    "collapsed": true
   },
   "outputs": [],
   "source": [
    "best_conf = [(features, grid_search_dict[tuple(features)].best_params_ ,\n",
    "              grid_search_dict[tuple(features)].best_score_ ) for features in list(grid_search_dict.keys())]\n",
    "best_conf.sort(key=lambda x: x[2])\n",
    "best_features = list(best_conf[-1][0])\n",
    "best_params = best_conf[-1][1]"
   ]
  },
  {
   "cell_type": "code",
   "execution_count": 78,
   "metadata": {},
   "outputs": [
    {
     "data": {
      "text/plain": [
       "{'criterion': 'mse',\n",
       " 'max_depth': None,\n",
       " 'max_features': 'auto',\n",
       " 'min_samples_leaf': 5,\n",
       " 'n_estimators': 20,\n",
       " 'n_jobs': 6}"
      ]
     },
     "execution_count": 78,
     "metadata": {},
     "output_type": "execute_result"
    }
   ],
   "source": [
    "best_params\n"
   ]
  },
  {
   "cell_type": "code",
   "execution_count": 58,
   "metadata": {},
   "outputs": [
    {
     "name": "stdout",
     "output_type": "stream",
     "text": [
      "['Datetime' 'id_15min' 'id_30min' 'id_60min' 'h0' 'h1' 'h2' 'h3' 'h4' 'h5'\n",
      " 'h6' 'h7' 'h8' 'h9' 'h10' 'h11' 'h12' 'h13' 'h14' 'h15' 'h16' 'h17' 'h18'\n",
      " 'h19' 'h20' 'h21' 'h22' 'h23' 'qh0' 'qh1' 'qh2' 'qh3' 'dh0' 'dh1'\n",
      " 'Day_type' 'DIJFP' 'JMHV' 'JOVS' 'LHV' 'MHV' 'SAHV' 'SAVS' 'VHV'\n",
      " 'Timestamp/sec' 'Timestamp/min' 'unix_time' 'Day_id' 'Day_fr' 'Day_en'\n",
      " 'Dimanche' 'Jeudi' 'Lundi' 'Mardi' 'Mercredi' 'Samedi' 'Vendredi' 'ymd'\n",
      " 'Vacances' 'Pont' 'Ferie' 'Mois' 'April' 'August' 'December' 'February'\n",
      " 'January' 'July' 'June' 'March' 'May' 'November' 'October' 'September'\n",
      " 'hms' 'hmsnum' '0.0' '0.25' '0.5' '0.75' '1.0' '1.25' '1.5' '1.75' '2.0'\n",
      " '2.25' '2.5' '2.75' '3.0' '3.25' '3.5' '3.75' '4.0' '4.25' '4.5' '4.75'\n",
      " '5.0' '5.25' '5.5' '5.75' '6.0' '6.25' '6.5' '6.75' '7.0' '7.25' '7.5'\n",
      " '7.75' '8.0' '8.25' '8.5' '8.75' '9.0' '9.25' '9.5' '9.75' '10.0' '10.25'\n",
      " '10.5' '10.75' '11.0' '11.25' '11.5' '11.75' '12.0' '12.25' '12.5' '12.75'\n",
      " '13.0' '13.25' '13.5' '13.75' '14.0' '14.25' '14.5' '14.75' '15.0' '15.25'\n",
      " '15.5' '15.75' '16.0' '16.25' '16.5' '16.75' '17.0' '17.25' '17.5' '17.75'\n",
      " '18.0' '18.25' '18.5' '18.75' '19.0' '19.25' '19.5' '19.75' '20.0' '20.25'\n",
      " '20.5' '20.75' '21.0' '21.25' '21.5' '21.75' '22.0' '22.25' '22.5' '22.75'\n",
      " '23.0' '23.25' '23.5' '23.75' 'Mois_id' 'Day_type_id' 'Day_type_en'\n",
      " 'hms_int_15min' '24DEC' '31DEC' 'day_off_quebec' 'renov_beaubien'\n",
      " 'vac_udem1' 'vac_udem2' 'vac_noel_quebec']\n"
     ]
    }
   ],
   "source": [
    "print(pd.read_csv('/home/toque/data2/date/2013-01-01-2019-01-01_new.csv').columns.values)"
   ]
  },
  {
   "cell_type": "code",
   "execution_count": 119,
   "metadata": {},
   "outputs": [
    {
     "name": "stdout",
     "output_type": "stream",
     "text": [
      "The rf model will take approximately a disk space of 8.000161 Mo. Do you want to save it?\n"
     ]
    }
   ],
   "source": [
    "\n",
    "print(\"The rf model will take approximately a disk space of {} Mo. Do you want to save it?\".format(str(size/1000000.2f)))"
   ]
  },
  {
   "cell_type": "code",
   "execution_count": null,
   "metadata": {
    "collapsed": true
   },
   "outputs": [],
   "source": []
  }
 ],
 "metadata": {
  "kernelspec": {
   "display_name": "Python 3.5 - env",
   "language": "python",
   "name": "py35"
  },
  "language_info": {
   "codemirror_mode": {
    "name": "ipython",
    "version": 3
   },
   "file_extension": ".py",
   "mimetype": "text/x-python",
   "name": "python",
   "nbconvert_exporter": "python",
   "pygments_lexer": "ipython3",
   "version": "3.5.4"
  }
 },
 "nbformat": 4,
 "nbformat_minor": 2
}
