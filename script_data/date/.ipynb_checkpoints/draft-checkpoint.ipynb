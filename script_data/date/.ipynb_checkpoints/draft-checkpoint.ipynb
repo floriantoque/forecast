{
 "cells": [
  {
   "cell_type": "code",
   "execution_count": 39,
   "metadata": {
    "collapsed": true
   },
   "outputs": [],
   "source": [
    "start_date = \"2017-01-01 00:00:00\"\n",
    "end_date = \"2017-07-01 00:00:00\"\n",
    "time_step_second = 3600"
   ]
  },
  {
   "cell_type": "code",
   "execution_count": 49,
   "metadata": {},
   "outputs": [
    {
     "name": "stderr",
     "output_type": "stream",
     "text": [
      " 79%|███████▉  | 3429/4345 [00:00<00:00, 34285.21it/s]"
     ]
    },
    {
     "name": "stdout",
     "output_type": "stream",
     "text": [
      "Step 1/2 : Create date features approx 20sec per year\n"
     ]
    },
    {
     "name": "stderr",
     "output_type": "stream",
     "text": [
      "100%|██████████| 4345/4345 [00:00<00:00, 26469.54it/s]\n",
      "100%|██████████| 4345/4345 [00:00<00:00, 68406.78it/s]\n",
      "100%|██████████| 4345/4345 [00:00<00:00, 37880.07it/s]\n"
     ]
    }
   ],
   "source": [
    "import numpy as np\n",
    "import pandas as pd\n",
    "import datetime as libdt\n",
    "from tqdm import tqdm\n",
    "import argparse\n",
    "import sys\n",
    "sys.path.insert(0, '../../utils/')\n",
    "from utils_calendar import *\n",
    "sys.path.insert(0, '../../utils/')\n",
    "from utils_date import *\n",
    "\n",
    "\n",
    "\n",
    "file_school_holidays = open(\"../../data/school_holidays_france_zoneC_2007_2018_included.csv\", \"r\")\n",
    "school_holidays_dt = [(string_to_datetime(i.split(\";\")[0], hms=False),\n",
    "                       string_to_datetime(i.split(\";\")[1], hms=False)) for i in file_school_holidays.read().splitlines()]\n",
    "file_holidays = open(\"../../data/holidays_france_2008_2019_included.csv\", \"r\")\n",
    "holidays_dt = [string_to_datetime(i, hms=False) for i in file_holidays.read().splitlines()]\n",
    "extra_day_off_dt = get_extra_day_off(holidays_dt, school_holidays_dt)\n",
    "\n",
    "\n",
    "print(\"Step 1/2 : Create date features approx 20sec per year\")\n",
    "\n",
    "\n",
    "timestamp_list = build_timestamp_list(start_date, end_date, time_step_second=time_step_second)\n",
    "df_date = pd.DataFrame(data=timestamp_list, columns=[\"Datetime\"], dtype=str)\n",
    "\n",
    "\n",
    "df_date[\"Day_id\"] = [string_to_datetime(i).weekday() for i in df_date[\"Datetime\"].values]\n",
    "df_date[\"Day_fr\"] = [get_day_string(i) for i in df_date[\"Day_id\"].tolist()]\n",
    "df_date[\"Day_en\"] = [get_day_string(i, fr=False) for i in df_date[\"Day_id\"].tolist()]\n",
    "df_date = pd.concat([df_date, pd.get_dummies(df_date['Day_en'])], axis=1)\n",
    "\n",
    "\n",
    "df_date[\"School_holidays_france_zoneC\"] = \\\n",
    "    [int(is_school_holidays(school_holidays_dt, string_to_datetime(i))) for i in tqdm(df_date[\"Datetime\"].values)]\n",
    "df_date[\"Extra_day_off_france\"] = \\\n",
    "    [int(is_extra_day_off(extra_day_off_dt, string_to_datetime(i))) for i in tqdm(df_date[\"Datetime\"].values)]\n",
    "df_date[\"Holidays_france\"] = \\\n",
    "    [int(is_holidays(holidays_dt, string_to_datetime(i))) for i in tqdm(df_date[\"Datetime\"].values)]\n"
   ]
  },
  {
   "cell_type": "code",
   "execution_count": 50,
   "metadata": {},
   "outputs": [
    {
     "data": {
      "text/html": [
       "<div>\n",
       "<table border=\"1\" class=\"dataframe\">\n",
       "  <thead>\n",
       "    <tr style=\"text-align: right;\">\n",
       "      <th></th>\n",
       "      <th>Holidays_france</th>\n",
       "    </tr>\n",
       "    <tr>\n",
       "      <th>Datetime</th>\n",
       "      <th></th>\n",
       "    </tr>\n",
       "  </thead>\n",
       "  <tbody>\n",
       "    <tr>\n",
       "      <th>2017-05-08 00:00:00</th>\n",
       "      <td>1</td>\n",
       "    </tr>\n",
       "    <tr>\n",
       "      <th>2017-05-08 01:00:00</th>\n",
       "      <td>1</td>\n",
       "    </tr>\n",
       "    <tr>\n",
       "      <th>2017-05-08 02:00:00</th>\n",
       "      <td>1</td>\n",
       "    </tr>\n",
       "  </tbody>\n",
       "</table>\n",
       "</div>"
      ],
      "text/plain": [
       "                     Holidays_france\n",
       "Datetime                            \n",
       "2017-05-08 00:00:00                1\n",
       "2017-05-08 01:00:00                1\n",
       "2017-05-08 02:00:00                1"
      ]
     },
     "execution_count": 50,
     "metadata": {},
     "output_type": "execute_result"
    }
   ],
   "source": [
    "df_date[['Datetime', 'Holidays_france']].set_index('Datetime')['2017-05-08 00:00:00':'2017-05-08 02:00:00']"
   ]
  },
  {
   "cell_type": "code",
   "execution_count": 48,
   "metadata": {},
   "outputs": [
    {
     "data": {
      "text/plain": [
       "True"
      ]
     },
     "execution_count": 48,
     "metadata": {},
     "output_type": "execute_result"
    }
   ],
   "source": [
    "string_to_datetime('2017-05-08 00:00:00').date() == string_to_datetime('2017-05-08 01:00:00').date()"
   ]
  },
  {
   "cell_type": "code",
   "execution_count": null,
   "metadata": {
    "collapsed": true
   },
   "outputs": [],
   "source": []
  },
  {
   "cell_type": "code",
   "execution_count": null,
   "metadata": {
    "collapsed": true
   },
   "outputs": [],
   "source": []
  },
  {
   "cell_type": "code",
   "execution_count": null,
   "metadata": {
    "collapsed": true
   },
   "outputs": [],
   "source": []
  },
  {
   "cell_type": "code",
   "execution_count": null,
   "metadata": {
    "collapsed": true
   },
   "outputs": [],
   "source": []
  },
  {
   "cell_type": "code",
   "execution_count": null,
   "metadata": {
    "collapsed": true
   },
   "outputs": [],
   "source": []
  },
  {
   "cell_type": "code",
   "execution_count": null,
   "metadata": {
    "collapsed": true
   },
   "outputs": [],
   "source": []
  },
  {
   "cell_type": "code",
   "execution_count": null,
   "metadata": {
    "collapsed": true
   },
   "outputs": [],
   "source": [
    "df_date = pd.read_csv(\"../../data/date_file_2013_2018_included_test.csv\")"
   ]
  },
  {
   "cell_type": "code",
   "execution_count": 15,
   "metadata": {},
   "outputs": [
    {
     "data": {
      "text/plain": [
       "0      0\n",
       "1      1\n",
       "2      2\n",
       "3      3\n",
       "4      4\n",
       "5      5\n",
       "6      6\n",
       "7      7\n",
       "8      8\n",
       "9      9\n",
       "10    10\n",
       "11    11\n",
       "12    12\n",
       "13    13\n",
       "14    14\n",
       "15    15\n",
       "16    16\n",
       "17    17\n",
       "18    18\n",
       "19    19\n",
       "20    20\n",
       "21    21\n",
       "22    22\n",
       "23    23\n",
       "Name: hour_minute_second_numerical, dtype: int64"
      ]
     },
     "execution_count": 15,
     "metadata": {},
     "output_type": "execute_result"
    }
   ],
   "source": [
    "df_date['hour_minute_second_numerical'].drop_duplicates()"
   ]
  },
  {
   "cell_type": "code",
   "execution_count": 13,
   "metadata": {
    "scrolled": true
   },
   "outputs": [
    {
     "data": {
      "text/plain": [
       "['Datetime',\n",
       " 'Day_id',\n",
       " 'Day_fr',\n",
       " 'Day_en',\n",
       " 'Friday',\n",
       " 'Monday',\n",
       " 'Saturday',\n",
       " 'Sunday',\n",
       " 'Thursday',\n",
       " 'Tuesday',\n",
       " 'Wednesday',\n",
       " 'School_holidays_france_zoneC',\n",
       " 'Extra_day_off_france',\n",
       " 'Holidays_france',\n",
       " 'Month_id',\n",
       " 'Month_en',\n",
       " 'April',\n",
       " 'February',\n",
       " 'January',\n",
       " 'July',\n",
       " 'June',\n",
       " 'March',\n",
       " 'May',\n",
       " 'hour_minute_second',\n",
       " 'hour_minute_second_numerical',\n",
       " '0',\n",
       " '1',\n",
       " '2',\n",
       " '3',\n",
       " '4',\n",
       " '5',\n",
       " '6',\n",
       " '7',\n",
       " '8',\n",
       " '9',\n",
       " '10',\n",
       " '11',\n",
       " '12',\n",
       " '13',\n",
       " '14',\n",
       " '15',\n",
       " '16',\n",
       " '17',\n",
       " '18',\n",
       " '19',\n",
       " '20',\n",
       " '21',\n",
       " '22',\n",
       " '23',\n",
       " 'Category2',\n",
       " 'DIJFP_2',\n",
       " 'JMHV_2',\n",
       " 'JOVS_2',\n",
       " 'LHV_2',\n",
       " 'MHV_2',\n",
       " 'SAHV_2',\n",
       " 'SAVS_2',\n",
       " 'VHV_2',\n",
       " 'Day_category2_id',\n",
       " 'Day_category2_en',\n",
       " 'Category1',\n",
       " 'DIJFP',\n",
       " 'JOHV',\n",
       " 'JOVS',\n",
       " 'SAHV',\n",
       " 'SAVS',\n",
       " 'Day_category1_id',\n",
       " 'Day_category1_en',\n",
       " '24_december',\n",
       " '31_december']"
      ]
     },
     "execution_count": 13,
     "metadata": {},
     "output_type": "execute_result"
    }
   ],
   "source": [
    "df_date.columns.tolist()"
   ]
  }
 ],
 "metadata": {
  "kernelspec": {
   "display_name": "Python 2.7 - env",
   "language": "python",
   "name": "py27"
  },
  "language_info": {
   "codemirror_mode": {
    "name": "ipython",
    "version": 2
   },
   "file_extension": ".py",
   "mimetype": "text/x-python",
   "name": "python",
   "nbconvert_exporter": "python",
   "pygments_lexer": "ipython2",
   "version": "2.7.13"
  }
 },
 "nbformat": 4,
 "nbformat_minor": 1
}
