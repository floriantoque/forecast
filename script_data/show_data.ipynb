{
 "cells": [
  {
   "cell_type": "code",
   "execution_count": 4,
   "metadata": {},
   "outputs": [],
   "source": [
    "import pandas as pd\n",
    "import sys\n",
    "sys.path.insert(0, '../')\n",
    "from utils.utils import *"
   ]
  },
  {
   "cell_type": "code",
   "execution_count": 5,
   "metadata": {
    "collapsed": true
   },
   "outputs": [],
   "source": [
    "obs = read_csv_list(['/home/toque/data2/montreal/stm/data/valid_metro_15min_2015_2016_2017_sumpass.csv'])\n",
    "exo = read_csv_list(['/home/toque/data2/date/2013-01-01-2019-01-01_new.csv'])\n"
   ]
  },
  {
   "cell_type": "code",
   "execution_count": 8,
   "metadata": {},
   "outputs": [
    {
     "data": {
      "text/html": [
       "<div>\n",
       "<table border=\"1\" class=\"dataframe\">\n",
       "  <thead>\n",
       "    <tr style=\"text-align: right;\">\n",
       "      <th></th>\n",
       "      <th>Datetime</th>\n",
       "      <th>11</th>\n",
       "      <th>32</th>\n",
       "      <th>34</th>\n",
       "      <th>15</th>\n",
       "      <th>44</th>\n",
       "      <th>65</th>\n",
       "      <th>31</th>\n",
       "      <th>33</th>\n",
       "      <th>35</th>\n",
       "      <th>...</th>\n",
       "      <th>42</th>\n",
       "      <th>45</th>\n",
       "      <th>38</th>\n",
       "      <th>29</th>\n",
       "      <th>58</th>\n",
       "      <th>63</th>\n",
       "      <th>22</th>\n",
       "      <th>59</th>\n",
       "      <th>53</th>\n",
       "      <th>17</th>\n",
       "    </tr>\n",
       "  </thead>\n",
       "  <tbody>\n",
       "    <tr>\n",
       "      <th>0</th>\n",
       "      <td>2015-01-01 00:00:00</td>\n",
       "      <td>140.0</td>\n",
       "      <td>44.0</td>\n",
       "      <td>90.0</td>\n",
       "      <td>62.0</td>\n",
       "      <td>21.0</td>\n",
       "      <td>25.0</td>\n",
       "      <td>42.0</td>\n",
       "      <td>47.0</td>\n",
       "      <td>50.0</td>\n",
       "      <td>...</td>\n",
       "      <td>6.0</td>\n",
       "      <td>15.0</td>\n",
       "      <td>7.0</td>\n",
       "      <td>16.0</td>\n",
       "      <td>6.0</td>\n",
       "      <td>2.0</td>\n",
       "      <td>36.0</td>\n",
       "      <td>4.0</td>\n",
       "      <td>9.0</td>\n",
       "      <td>2.0</td>\n",
       "    </tr>\n",
       "  </tbody>\n",
       "</table>\n",
       "<p>1 rows × 69 columns</p>\n",
       "</div>"
      ],
      "text/plain": [
       "              Datetime     11    32    34    15    44    65    31    33    35  \\\n",
       "0  2015-01-01 00:00:00  140.0  44.0  90.0  62.0  21.0  25.0  42.0  47.0  50.0   \n",
       "\n",
       "  ...    42    45   38    29   58   63    22   59   53   17  \n",
       "0 ...   6.0  15.0  7.0  16.0  6.0  2.0  36.0  4.0  9.0  2.0  \n",
       "\n",
       "[1 rows x 69 columns]"
      ]
     },
     "execution_count": 8,
     "metadata": {},
     "output_type": "execute_result"
    }
   ],
   "source": [
    "obs.head(1)"
   ]
  },
  {
   "cell_type": "code",
   "execution_count": 9,
   "metadata": {},
   "outputs": [
    {
     "data": {
      "text/html": [
       "<div>\n",
       "<table border=\"1\" class=\"dataframe\">\n",
       "  <thead>\n",
       "    <tr style=\"text-align: right;\">\n",
       "      <th></th>\n",
       "      <th>Datetime</th>\n",
       "      <th>11</th>\n",
       "      <th>32</th>\n",
       "      <th>34</th>\n",
       "      <th>15</th>\n",
       "      <th>44</th>\n",
       "      <th>65</th>\n",
       "      <th>31</th>\n",
       "      <th>33</th>\n",
       "      <th>35</th>\n",
       "      <th>...</th>\n",
       "      <th>42</th>\n",
       "      <th>45</th>\n",
       "      <th>38</th>\n",
       "      <th>29</th>\n",
       "      <th>58</th>\n",
       "      <th>63</th>\n",
       "      <th>22</th>\n",
       "      <th>59</th>\n",
       "      <th>53</th>\n",
       "      <th>17</th>\n",
       "    </tr>\n",
       "  </thead>\n",
       "  <tbody>\n",
       "    <tr>\n",
       "      <th>91328</th>\n",
       "      <td>2017-12-31 23:45:00</td>\n",
       "      <td>122.0</td>\n",
       "      <td>45.0</td>\n",
       "      <td>95.0</td>\n",
       "      <td>52.0</td>\n",
       "      <td>33.0</td>\n",
       "      <td>22.0</td>\n",
       "      <td>46.0</td>\n",
       "      <td>43.0</td>\n",
       "      <td>52.0</td>\n",
       "      <td>...</td>\n",
       "      <td>4.0</td>\n",
       "      <td>63.0</td>\n",
       "      <td>4.0</td>\n",
       "      <td>16.0</td>\n",
       "      <td>5.0</td>\n",
       "      <td>4.0</td>\n",
       "      <td>3.0</td>\n",
       "      <td>8.0</td>\n",
       "      <td>2.0</td>\n",
       "      <td>10.0</td>\n",
       "    </tr>\n",
       "  </tbody>\n",
       "</table>\n",
       "<p>1 rows × 69 columns</p>\n",
       "</div>"
      ],
      "text/plain": [
       "                  Datetime     11    32    34    15    44    65    31    33  \\\n",
       "91328  2017-12-31 23:45:00  122.0  45.0  95.0  52.0  33.0  22.0  46.0  43.0   \n",
       "\n",
       "         35  ...    42    45   38    29   58   63   22   59   53    17  \n",
       "91328  52.0  ...   4.0  63.0  4.0  16.0  5.0  4.0  3.0  8.0  2.0  10.0  \n",
       "\n",
       "[1 rows x 69 columns]"
      ]
     },
     "execution_count": 9,
     "metadata": {},
     "output_type": "execute_result"
    }
   ],
   "source": [
    "obs.tail(1)"
   ]
  },
  {
   "cell_type": "code",
   "execution_count": 6,
   "metadata": {},
   "outputs": [
    {
     "data": {
      "text/plain": [
       "array(['Datetime', '11', '32', '34', '15', '44', '65', '31', '33', '35',\n",
       "       '47', '13', '14', '1', '9', '5', '18', '36', '24', '68', '43', '8',\n",
       "       '64', '10', '55', '3', '49', '51', '2', '19', '56', '7', '6', '4',\n",
       "       '48', '66', '25', '23', '28', '39', '54', '60', '27', '20', '46',\n",
       "       '12', '21', '62', '52', '41', '50', '30', '16', '37', '40', '26',\n",
       "       '67', '57', '61', '42', '45', '38', '29', '58', '63', '22', '59',\n",
       "       '53', '17'], dtype=object)"
      ]
     },
     "execution_count": 6,
     "metadata": {},
     "output_type": "execute_result"
    }
   ],
   "source": [
    "obs.columns.values"
   ]
  },
  {
   "cell_type": "code",
   "execution_count": 7,
   "metadata": {},
   "outputs": [
    {
     "data": {
      "text/plain": [
       "array(['Datetime', 'id_15min', 'id_30min', 'id_60min', 'h0', 'h1', 'h2',\n",
       "       'h3', 'h4', 'h5', 'h6', 'h7', 'h8', 'h9', 'h10', 'h11', 'h12',\n",
       "       'h13', 'h14', 'h15', 'h16', 'h17', 'h18', 'h19', 'h20', 'h21',\n",
       "       'h22', 'h23', 'qh0', 'qh1', 'qh2', 'qh3', 'dh0', 'dh1', 'Day_type',\n",
       "       'DIJFP', 'JMHV', 'JOVS', 'LHV', 'MHV', 'SAHV', 'SAVS', 'VHV',\n",
       "       'Timestamp/sec', 'Timestamp/min', 'unix_time', 'Day_id', 'Day_fr',\n",
       "       'Day_en', 'Dimanche', 'Jeudi', 'Lundi', 'Mardi', 'Mercredi',\n",
       "       'Samedi', 'Vendredi', 'ymd', 'Vacances', 'Pont', 'Ferie', 'Mois',\n",
       "       'April', 'August', 'December', 'February', 'January', 'July',\n",
       "       'June', 'March', 'May', 'November', 'October', 'September', 'hms',\n",
       "       'hmsnum', '0.0', '0.25', '0.5', '0.75', '1.0', '1.25', '1.5',\n",
       "       '1.75', '2.0', '2.25', '2.5', '2.75', '3.0', '3.25', '3.5', '3.75',\n",
       "       '4.0', '4.25', '4.5', '4.75', '5.0', '5.25', '5.5', '5.75', '6.0',\n",
       "       '6.25', '6.5', '6.75', '7.0', '7.25', '7.5', '7.75', '8.0', '8.25',\n",
       "       '8.5', '8.75', '9.0', '9.25', '9.5', '9.75', '10.0', '10.25',\n",
       "       '10.5', '10.75', '11.0', '11.25', '11.5', '11.75', '12.0', '12.25',\n",
       "       '12.5', '12.75', '13.0', '13.25', '13.5', '13.75', '14.0', '14.25',\n",
       "       '14.5', '14.75', '15.0', '15.25', '15.5', '15.75', '16.0', '16.25',\n",
       "       '16.5', '16.75', '17.0', '17.25', '17.5', '17.75', '18.0', '18.25',\n",
       "       '18.5', '18.75', '19.0', '19.25', '19.5', '19.75', '20.0', '20.25',\n",
       "       '20.5', '20.75', '21.0', '21.25', '21.5', '21.75', '22.0', '22.25',\n",
       "       '22.5', '22.75', '23.0', '23.25', '23.5', '23.75', 'Mois_id',\n",
       "       'Day_type_id', 'Day_type_en', 'hms_int_15min', '24DEC', '31DEC',\n",
       "       'day_off_quebec', 'renov_beaubien', 'vac_udem1', 'vac_udem2',\n",
       "       'vac_noel_quebec'], dtype=object)"
      ]
     },
     "execution_count": 7,
     "metadata": {},
     "output_type": "execute_result"
    }
   ],
   "source": [
    "exo.columns.values"
   ]
  },
  {
   "cell_type": "code",
   "execution_count": 25,
   "metadata": {
    "collapsed": true
   },
   "outputs": [],
   "source": [
    "lt_ha_mtl_v1 = ['hms_int_15min', 'Day_id']\n",
    "lt_ha_mtl_v2 = ['hms_int_15min', 'Day_id', 'Mois_id', 'vac_noel_quebec', 'day_off_quebec', '24DEC', '31DEC']\n",
    "lt_ha_mtl_v3 = ['hms_int_15min', 'Day_id', 'Mois_id', 'vac_noel_quebec', 'day_off_quebec', '24DEC', '31DEC',\n",
    "                'renov_beaubien', 'vac_udem1', 'vac_udem2']\n",
    "\n"
   ]
  },
  {
   "cell_type": "code",
   "execution_count": 24,
   "metadata": {
    "collapsed": true
   },
   "outputs": [],
   "source": [
    "lt_rf_mtl = [['hms_int_15min', 'Day_id'],\n",
    "             ['hms_int_15min', 'Day_id', 'Mois_id', 'vac_noel_quebec', 'day_off_quebec', '24DEC', '31DEC'],\n",
    "             ['hms_int_15min', 'Day_id', 'Mois_id', 'vac_noel_quebec', 'day_off_quebec', '24DEC', '31DEC',\n",
    "              'renov_beaubien'],\n",
    "             ['hms_int_15min', 'Day_id', 'Mois_id', 'vac_noel_quebec', 'day_off_quebec', '24DEC', '31DEC',\n",
    "                'renov_beaubien', 'vac_udem1', 'vac_udem2']]"
   ]
  },
  {
   "cell_type": "code",
   "execution_count": null,
   "metadata": {
    "collapsed": true
   },
   "outputs": [],
   "source": []
  }
 ],
 "metadata": {
  "kernelspec": {
   "display_name": "Python 3.5 - env",
   "language": "python",
   "name": "py35"
  },
  "language_info": {
   "codemirror_mode": {
    "name": "ipython",
    "version": 3
   },
   "file_extension": ".py",
   "mimetype": "text/x-python",
   "name": "python",
   "nbconvert_exporter": "python",
   "pygments_lexer": "ipython3",
   "version": "3.5.4"
  }
 },
 "nbformat": 4,
 "nbformat_minor": 2
}
