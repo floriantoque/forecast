{
 "cells": [
  {
   "cell_type": "code",
   "execution_count": 1,
   "metadata": {
    "collapsed": true
   },
   "outputs": [],
   "source": [
    "import sys\n",
    "\n",
    "sys.path.insert(0, '../')\n",
    "from model.ha.ha_model import Ha_model\n",
    "from utils.utils import *\n"
   ]
  },
  {
   "cell_type": "markdown",
   "metadata": {},
   "source": [
    "# FIT"
   ]
  },
  {
   "cell_type": "code",
   "execution_count": 4,
   "metadata": {},
   "outputs": [
    {
     "name": "stderr",
     "output_type": "stream",
     "text": [
      "100%|██████████| 2/2 [00:00<00:00, 19645.45it/s]\n",
      "100%|██████████| 2/2 [00:00<00:00, 20164.92it/s]"
     ]
    },
    {
     "name": "stdout",
     "output_type": "stream",
     "text": [
      "Progress Bar 1/2 : learning mean\n",
      "Progress Bar 2/2 : learning median\n"
     ]
    },
    {
     "name": "stderr",
     "output_type": "stream",
     "text": [
      "\n"
     ]
    }
   ],
   "source": [
    "observation_data_path = ['../data/observation_file_2017-01-01_2017-06-30_included_test.csv']\n",
    "exogenous_data_path = ['../data/date_file_2013_2018_included_test.csv']\n",
    "features = ['Day_id', 'Month_id', 'School_holidays_france_zoneC', 'Extra_day_off_france',\n",
    "            'Holidays_france', 'hour_minute_second_numerical']\n",
    "time_series = ['71634', '71650', '71442', '71654', '71743', '71328',\n",
    "               '71305', '71517', '71284', '415852', '71404', '71298', '73630',\n",
    "               '71318', '71348', '71379', '71647', '71663', '71673', '71485',\n",
    "               '71222', '71297', '71347', '71100', '71133', '71217', '73696',\n",
    "               '73689', '71407', '73616', '70537', '70636', '70375', '71351',\n",
    "               '71977', '70452', '72031', '72013', '70645', '71253', '71363',\n",
    "               '70596', '72430', '71201', '72460', '70488', '71076', '70604',\n",
    "               '73695', '70143', '70248', '71001', '73615']\n",
    "\n",
    "model_name = 'ha_model_test'\n",
    "start_date = '2017-01-01 00:00:00'\n",
    "end_date = '2017-01-01 01:00:00'\n",
    "path_to_save = '../data/model/ha/ha_model_test.pkl'\n",
    "\n",
    "if not os.path.exists(path_to_save):\n",
    "    os.makedirs(path_to_save)\n",
    "\n",
    "my_model = Ha_model(model_name, start_date, end_date, features, time_series, observation_data_path,\n",
    "                    exogenous_data_path)\n",
    "\n",
    "df_observation = read_csv_list(observation_data_path)\n",
    "df_exogenous = read_csv_list(exogenous_data_path)\n",
    "\n",
    "df_Xy = df_observation.set_index('Datetime').join(df_exogenous.set_index(\"Datetime\"))[start_date:end_date]\n",
    "\n",
    "X = df_Xy[features].values\n",
    "y = df_Xy[time_series].values\n",
    "\n",
    "my_model.fit(X, y)\n",
    "\n",
    "my_model.save(path_to_save, None)"
   ]
  },
  {
   "cell_type": "code",
   "execution_count": 86,
   "metadata": {},
   "outputs": [
    {
     "name": "stdout",
     "output_type": "stream",
     "text": [
      "Description of model: ha_model_test\n",
      "Learning start date: 2017-01-01 00:00:00\n",
      "Learning end date: 2017-01-01 01:00:00\n",
      "Features: Day_id,Month_id,School_holidays_france_zoneC,Extra_day_off_france,Holidays_france,hour_minute_second_numerical\n",
      "Learned time series: 71634,71650,71442,71654,71743,71328,71305,71517,71284,415852,71404,71298,73630,71318,71348,71379,71647,71663,71673,71485,71222,71297,71347,71100,71133,71217,73696,73689,71407,73616,70537,70636,70375,71351,71977,70452,72031,72013,70645,71253,71363,70596,72430,71201,72460,70488,71076,70604,73695,70143,70248,71001,73615\n",
      "Training observation data path: ['../data/observation_file_2017-01-01_2017-06-30_included_test.csv']\n",
      "Training exogenous data (date) path: ['../data/date_file_2013_2018_included_test.csv']\n"
     ]
    }
   ],
   "source": [
    "print(my_model)"
   ]
  },
  {
   "cell_type": "code",
   "execution_count": 5,
   "metadata": {},
   "outputs": [
    {
     "ename": "KeyError",
     "evalue": "'the label [2017-01-01 00:00:00] is not in the [index]'",
     "output_type": "error",
     "traceback": [
      "\u001b[0;31m---------------------------------------------------------------------------\u001b[0m",
      "\u001b[0;31mKeyError\u001b[0m                                  Traceback (most recent call last)",
      "\u001b[0;32m/opt/conda/envs/py35/lib/python3.5/site-packages/pandas/core/indexing.py\u001b[0m in \u001b[0;36m_has_valid_type\u001b[0;34m(self, key, axis)\u001b[0m\n\u001b[1;32m   1410\u001b[0m                 \u001b[0;32mif\u001b[0m \u001b[0mkey\u001b[0m \u001b[0;32mnot\u001b[0m \u001b[0;32min\u001b[0m \u001b[0max\u001b[0m\u001b[0;34m:\u001b[0m\u001b[0;34m\u001b[0m\u001b[0m\n\u001b[0;32m-> 1411\u001b[0;31m                     \u001b[0merror\u001b[0m\u001b[0;34m(\u001b[0m\u001b[0;34m)\u001b[0m\u001b[0;34m\u001b[0m\u001b[0m\n\u001b[0m\u001b[1;32m   1412\u001b[0m             \u001b[0;32mexcept\u001b[0m \u001b[0mTypeError\u001b[0m \u001b[0;32mas\u001b[0m \u001b[0me\u001b[0m\u001b[0;34m:\u001b[0m\u001b[0;34m\u001b[0m\u001b[0m\n",
      "\u001b[0;32m/opt/conda/envs/py35/lib/python3.5/site-packages/pandas/core/indexing.py\u001b[0m in \u001b[0;36merror\u001b[0;34m()\u001b[0m\n\u001b[1;32m   1405\u001b[0m                 raise KeyError(\"the label [%s] is not in the [%s]\" %\n\u001b[0;32m-> 1406\u001b[0;31m                                (key, self.obj._get_axis_name(axis)))\n\u001b[0m\u001b[1;32m   1407\u001b[0m \u001b[0;34m\u001b[0m\u001b[0m\n",
      "\u001b[0;31mKeyError\u001b[0m: 'the label [2017-01-01 00:00:00] is not in the [index]'",
      "\nDuring handling of the above exception, another exception occurred:\n",
      "\u001b[0;31mKeyError\u001b[0m                                  Traceback (most recent call last)",
      "\u001b[0;32m<ipython-input-5-6e806a6ae6fb>\u001b[0m in \u001b[0;36m<module>\u001b[0;34m()\u001b[0m\n\u001b[0;32m----> 1\u001b[0;31m \u001b[0mobs1\u001b[0m \u001b[0;34m=\u001b[0m \u001b[0mnp\u001b[0m\u001b[0;34m.\u001b[0m\u001b[0maround\u001b[0m\u001b[0;34m(\u001b[0m\u001b[0mdf_observation\u001b[0m\u001b[0;34m.\u001b[0m\u001b[0mloc\u001b[0m\u001b[0;34m[\u001b[0m\u001b[0;34m'2017-01-01 00:00:00'\u001b[0m\u001b[0;34m]\u001b[0m\u001b[0;34m.\u001b[0m\u001b[0mvalues\u001b[0m\u001b[0;34m,\u001b[0m \u001b[0mdecimals\u001b[0m\u001b[0;34m=\u001b[0m\u001b[0;36m2\u001b[0m\u001b[0;34m)\u001b[0m\u001b[0;34m\u001b[0m\u001b[0m\n\u001b[0m\u001b[1;32m      2\u001b[0m \u001b[0mres1\u001b[0m \u001b[0;34m=\u001b[0m \u001b[0mnp\u001b[0m\u001b[0;34m.\u001b[0m\u001b[0maround\u001b[0m\u001b[0;34m(\u001b[0m\u001b[0mmy_model\u001b[0m\u001b[0;34m.\u001b[0m\u001b[0minfos\u001b[0m\u001b[0;34m[\u001b[0m\u001b[0;34m'dict_pred_mean'\u001b[0m\u001b[0;34m]\u001b[0m\u001b[0;34m[\u001b[0m\u001b[0;34m(\u001b[0m\u001b[0;36m6\u001b[0m\u001b[0;34m,\u001b[0m\u001b[0;36m1\u001b[0m\u001b[0;34m,\u001b[0m\u001b[0;36m1\u001b[0m\u001b[0;34m,\u001b[0m\u001b[0;36m0\u001b[0m\u001b[0;34m,\u001b[0m\u001b[0;36m1\u001b[0m\u001b[0;34m,\u001b[0m\u001b[0;36m0\u001b[0m\u001b[0;34m)\u001b[0m\u001b[0;34m]\u001b[0m\u001b[0;34m.\u001b[0m\u001b[0mastype\u001b[0m\u001b[0;34m(\u001b[0m\u001b[0mfloat\u001b[0m\u001b[0;34m)\u001b[0m\u001b[0;34m,\u001b[0m \u001b[0mdecimals\u001b[0m\u001b[0;34m=\u001b[0m\u001b[0;36m2\u001b[0m\u001b[0;34m)\u001b[0m\u001b[0;34m\u001b[0m\u001b[0m\n\u001b[1;32m      3\u001b[0m \u001b[0mobs2\u001b[0m \u001b[0;34m=\u001b[0m \u001b[0mnp\u001b[0m\u001b[0;34m.\u001b[0m\u001b[0maround\u001b[0m\u001b[0;34m(\u001b[0m\u001b[0mdf_observation\u001b[0m\u001b[0;34m.\u001b[0m\u001b[0mloc\u001b[0m\u001b[0;34m[\u001b[0m\u001b[0;34m'2017-01-01 01:00:00'\u001b[0m\u001b[0;34m]\u001b[0m\u001b[0;34m.\u001b[0m\u001b[0mvalues\u001b[0m\u001b[0;34m,\u001b[0m \u001b[0mdecimals\u001b[0m\u001b[0;34m=\u001b[0m\u001b[0;36m2\u001b[0m\u001b[0;34m)\u001b[0m\u001b[0;34m\u001b[0m\u001b[0m\n\u001b[1;32m      4\u001b[0m \u001b[0mres2\u001b[0m \u001b[0;34m=\u001b[0m \u001b[0mnp\u001b[0m\u001b[0;34m.\u001b[0m\u001b[0maround\u001b[0m\u001b[0;34m(\u001b[0m\u001b[0mmy_model\u001b[0m\u001b[0;34m.\u001b[0m\u001b[0minfos\u001b[0m\u001b[0;34m[\u001b[0m\u001b[0;34m'dict_pred_mean'\u001b[0m\u001b[0;34m]\u001b[0m\u001b[0;34m[\u001b[0m\u001b[0;34m(\u001b[0m\u001b[0;36m6\u001b[0m\u001b[0;34m,\u001b[0m\u001b[0;36m1\u001b[0m\u001b[0;34m,\u001b[0m\u001b[0;36m1\u001b[0m\u001b[0;34m,\u001b[0m\u001b[0;36m0\u001b[0m\u001b[0;34m,\u001b[0m\u001b[0;36m1\u001b[0m\u001b[0;34m,\u001b[0m\u001b[0;36m1\u001b[0m\u001b[0;34m)\u001b[0m\u001b[0;34m]\u001b[0m\u001b[0;34m.\u001b[0m\u001b[0mastype\u001b[0m\u001b[0;34m(\u001b[0m\u001b[0mfloat\u001b[0m\u001b[0;34m)\u001b[0m\u001b[0;34m,\u001b[0m \u001b[0mdecimals\u001b[0m\u001b[0;34m=\u001b[0m\u001b[0;36m2\u001b[0m\u001b[0;34m)\u001b[0m\u001b[0;34m\u001b[0m\u001b[0m\n\u001b[1;32m      5\u001b[0m \u001b[0;34m\u001b[0m\u001b[0m\n",
      "\u001b[0;32m/opt/conda/envs/py35/lib/python3.5/site-packages/pandas/core/indexing.py\u001b[0m in \u001b[0;36m__getitem__\u001b[0;34m(self, key)\u001b[0m\n\u001b[1;32m   1310\u001b[0m             \u001b[0;32mreturn\u001b[0m \u001b[0mself\u001b[0m\u001b[0;34m.\u001b[0m\u001b[0m_getitem_tuple\u001b[0m\u001b[0;34m(\u001b[0m\u001b[0mkey\u001b[0m\u001b[0;34m)\u001b[0m\u001b[0;34m\u001b[0m\u001b[0m\n\u001b[1;32m   1311\u001b[0m         \u001b[0;32melse\u001b[0m\u001b[0;34m:\u001b[0m\u001b[0;34m\u001b[0m\u001b[0m\n\u001b[0;32m-> 1312\u001b[0;31m             \u001b[0;32mreturn\u001b[0m \u001b[0mself\u001b[0m\u001b[0;34m.\u001b[0m\u001b[0m_getitem_axis\u001b[0m\u001b[0;34m(\u001b[0m\u001b[0mkey\u001b[0m\u001b[0;34m,\u001b[0m \u001b[0maxis\u001b[0m\u001b[0;34m=\u001b[0m\u001b[0;36m0\u001b[0m\u001b[0;34m)\u001b[0m\u001b[0;34m\u001b[0m\u001b[0m\n\u001b[0m\u001b[1;32m   1313\u001b[0m \u001b[0;34m\u001b[0m\u001b[0m\n\u001b[1;32m   1314\u001b[0m     \u001b[0;32mdef\u001b[0m \u001b[0m_getitem_axis\u001b[0m\u001b[0;34m(\u001b[0m\u001b[0mself\u001b[0m\u001b[0;34m,\u001b[0m \u001b[0mkey\u001b[0m\u001b[0;34m,\u001b[0m \u001b[0maxis\u001b[0m\u001b[0;34m=\u001b[0m\u001b[0;36m0\u001b[0m\u001b[0;34m)\u001b[0m\u001b[0;34m:\u001b[0m\u001b[0;34m\u001b[0m\u001b[0m\n",
      "\u001b[0;32m/opt/conda/envs/py35/lib/python3.5/site-packages/pandas/core/indexing.py\u001b[0m in \u001b[0;36m_getitem_axis\u001b[0;34m(self, key, axis)\u001b[0m\n\u001b[1;32m   1480\u001b[0m \u001b[0;34m\u001b[0m\u001b[0m\n\u001b[1;32m   1481\u001b[0m         \u001b[0;31m# fall thru to straight lookup\u001b[0m\u001b[0;34m\u001b[0m\u001b[0;34m\u001b[0m\u001b[0m\n\u001b[0;32m-> 1482\u001b[0;31m         \u001b[0mself\u001b[0m\u001b[0;34m.\u001b[0m\u001b[0m_has_valid_type\u001b[0m\u001b[0;34m(\u001b[0m\u001b[0mkey\u001b[0m\u001b[0;34m,\u001b[0m \u001b[0maxis\u001b[0m\u001b[0;34m)\u001b[0m\u001b[0;34m\u001b[0m\u001b[0m\n\u001b[0m\u001b[1;32m   1483\u001b[0m         \u001b[0;32mreturn\u001b[0m \u001b[0mself\u001b[0m\u001b[0;34m.\u001b[0m\u001b[0m_get_label\u001b[0m\u001b[0;34m(\u001b[0m\u001b[0mkey\u001b[0m\u001b[0;34m,\u001b[0m \u001b[0maxis\u001b[0m\u001b[0;34m=\u001b[0m\u001b[0maxis\u001b[0m\u001b[0;34m)\u001b[0m\u001b[0;34m\u001b[0m\u001b[0m\n\u001b[1;32m   1484\u001b[0m \u001b[0;34m\u001b[0m\u001b[0m\n",
      "\u001b[0;32m/opt/conda/envs/py35/lib/python3.5/site-packages/pandas/core/indexing.py\u001b[0m in \u001b[0;36m_has_valid_type\u001b[0;34m(self, key, axis)\u001b[0m\n\u001b[1;32m   1417\u001b[0m                 \u001b[0;32mraise\u001b[0m\u001b[0;34m\u001b[0m\u001b[0m\n\u001b[1;32m   1418\u001b[0m             \u001b[0;32mexcept\u001b[0m\u001b[0;34m:\u001b[0m\u001b[0;34m\u001b[0m\u001b[0m\n\u001b[0;32m-> 1419\u001b[0;31m                 \u001b[0merror\u001b[0m\u001b[0;34m(\u001b[0m\u001b[0;34m)\u001b[0m\u001b[0;34m\u001b[0m\u001b[0m\n\u001b[0m\u001b[1;32m   1420\u001b[0m \u001b[0;34m\u001b[0m\u001b[0m\n\u001b[1;32m   1421\u001b[0m         \u001b[0;32mreturn\u001b[0m \u001b[0;32mTrue\u001b[0m\u001b[0;34m\u001b[0m\u001b[0m\n",
      "\u001b[0;32m/opt/conda/envs/py35/lib/python3.5/site-packages/pandas/core/indexing.py\u001b[0m in \u001b[0;36merror\u001b[0;34m()\u001b[0m\n\u001b[1;32m   1404\u001b[0m                                     \"key\")\n\u001b[1;32m   1405\u001b[0m                 raise KeyError(\"the label [%s] is not in the [%s]\" %\n\u001b[0;32m-> 1406\u001b[0;31m                                (key, self.obj._get_axis_name(axis)))\n\u001b[0m\u001b[1;32m   1407\u001b[0m \u001b[0;34m\u001b[0m\u001b[0m\n\u001b[1;32m   1408\u001b[0m             \u001b[0;32mtry\u001b[0m\u001b[0;34m:\u001b[0m\u001b[0;34m\u001b[0m\u001b[0m\n",
      "\u001b[0;31mKeyError\u001b[0m: 'the label [2017-01-01 00:00:00] is not in the [index]'"
     ]
    }
   ],
   "source": [
    "obs1 = np.around(df_observation.set_index('Datetime').loc['2017-01-01 00:00:00'].values, decimals=2) \n",
    "res1 = np.around(my_model.infos['dict_pred_mean'][(6,1,1,0,1,0)].astype(float), decimals=2)\n",
    "obs2 = np.around(df_observation.set_index('Datetime').loc['2017-01-01 01:00:00'].values, decimals=2) \n",
    "res2 = np.around(my_model.infos['dict_pred_mean'][(6,1,1,0,1,1)].astype(float), decimals=2)\n",
    "\n",
    "print((obs1!=res1).sum() == 0)\n",
    "print((obs2!=res2).sum() == 0)"
   ]
  },
  {
   "cell_type": "code",
   "execution_count": 99,
   "metadata": {},
   "outputs": [
    {
     "data": {
      "text/plain": [
       "array([22.4593, 7.807, 10.7536, 22.8844, 146.96439999999996, 124.2087,\n",
       "       24.178, 109.446, 10.6672, 80.2373, 9.8027, 90.0448, 16.8435, 57.816,\n",
       "       8.630400000000002, 68.0279, 17.4, 28.216000000000005, 77.0412,\n",
       "       15.7896, 0.5281999999999999, 43.9401, 153.6652, 18.9126, 38.7772,\n",
       "       15.806400000000002, 14.336199999999998, 13.468800000000002,\n",
       "       12.275200000000002, 10.2363, 4.7817, 9.7092, 5.659200000000001,\n",
       "       18.1482, 10.251, 0.0, 10.8222, 27.966, 9.5118, 11.6332, 12.6984,\n",
       "       12.0736, 32.7104, 10.2176, 39.0145, 7.3299, 22.1378, 9.0321,\n",
       "       11.7978, 14.704199999999998, 4.83, 15.6462, 3.8402], dtype=object)"
      ]
     },
     "execution_count": 99,
     "metadata": {},
     "output_type": "execute_result"
    }
   ],
   "source": [
    "my_model.infos['dict_pred_mean'][(6,1,1,0,1,0)]"
   ]
  },
  {
   "cell_type": "code",
   "execution_count": 106,
   "metadata": {},
   "outputs": [
    {
     "data": {
      "text/plain": [
       "dict_keys(['dict_pred_mean', 'dict_pred_median', 'features', 'exogenous_data_path', 'start_date', 'observation_data_path', 'name', 'time_series', 'end_date'])"
      ]
     },
     "execution_count": 106,
     "metadata": {},
     "output_type": "execute_result"
    }
   ],
   "source": [
    "my_model.infos.keys()"
   ]
  },
  {
   "cell_type": "code",
   "execution_count": 108,
   "metadata": {
    "collapsed": true
   },
   "outputs": [],
   "source": [
    "features = ['Day_id', 'Month_id', 'School_holidays_france_zoneC', 'Extra_day_off_france',\n",
    "                    'Holidays_france', 'hour_minute_second_numerical']\n",
    "time_series = ['71634', '71650', '71442', '71654', '71743', '71328',\n",
    "               '71305', '71517', '71284', '415852', '71404', '71298', '73630',\n",
    "               '71318', '71348', '71379', '71647', '71663', '71673', '71485',\n",
    "               '71222', '71297', '71347', '71100', '71133', '71217', '73696',\n",
    "               '73689', '71407', '73616', '70537', '70636', '70375', '71351',\n",
    "               '71977', '70452', '72031', '72013', '70645', '71253', '71363',\n",
    "               '70596', '72430', '71201', '72460', '70488', '71076', '70604',\n",
    "               '73695', '70143', '70248', '71001', '73615']\n",
    "\n",
    "model_name = 'ha_model_test'\n",
    "start_date = '2017-01-01 00:00:00'\n",
    "end_date = '2017-01-01 01:00:00'\n",
    "path_to_save = '../data/model/ha/'"
   ]
  },
  {
   "cell_type": "code",
   "execution_count": 112,
   "metadata": {},
   "outputs": [
    {
     "data": {
      "text/plain": [
       "['../data/date_file_2013_2018_included_test.csv']"
      ]
     },
     "execution_count": 112,
     "metadata": {},
     "output_type": "execute_result"
    }
   ],
   "source": [
    "my_model.infos['features'] == features\n",
    "my_model.infos['time_series'] == time_series\n",
    "my_model.infos['start_date'] == start_date\n",
    "my_model.infos['end_date'] == end_date\n",
    "my_model.infos['exogenous_data_path']"
   ]
  },
  {
   "cell_type": "code",
   "execution_count": 91,
   "metadata": {},
   "outputs": [
    {
     "data": {
      "text/html": [
       "<div>\n",
       "<table border=\"1\" class=\"dataframe\">\n",
       "  <thead>\n",
       "    <tr style=\"text-align: right;\">\n",
       "      <th></th>\n",
       "      <th>71634</th>\n",
       "      <th>71650</th>\n",
       "      <th>71442</th>\n",
       "      <th>71654</th>\n",
       "      <th>71743</th>\n",
       "      <th>71328</th>\n",
       "      <th>71305</th>\n",
       "      <th>71517</th>\n",
       "      <th>71284</th>\n",
       "      <th>415852</th>\n",
       "      <th>...</th>\n",
       "      <th>71201</th>\n",
       "      <th>72460</th>\n",
       "      <th>70488</th>\n",
       "      <th>71076</th>\n",
       "      <th>70604</th>\n",
       "      <th>73695</th>\n",
       "      <th>70143</th>\n",
       "      <th>70248</th>\n",
       "      <th>71001</th>\n",
       "      <th>73615</th>\n",
       "    </tr>\n",
       "    <tr>\n",
       "      <th>Datetime</th>\n",
       "      <th></th>\n",
       "      <th></th>\n",
       "      <th></th>\n",
       "      <th></th>\n",
       "      <th></th>\n",
       "      <th></th>\n",
       "      <th></th>\n",
       "      <th></th>\n",
       "      <th></th>\n",
       "      <th></th>\n",
       "      <th></th>\n",
       "      <th></th>\n",
       "      <th></th>\n",
       "      <th></th>\n",
       "      <th></th>\n",
       "      <th></th>\n",
       "      <th></th>\n",
       "      <th></th>\n",
       "      <th></th>\n",
       "      <th></th>\n",
       "      <th></th>\n",
       "    </tr>\n",
       "  </thead>\n",
       "  <tbody>\n",
       "    <tr>\n",
       "      <th>2017-01-01 00:00:00</th>\n",
       "      <td>22.4593</td>\n",
       "      <td>7.807</td>\n",
       "      <td>10.7536</td>\n",
       "      <td>22.8844</td>\n",
       "      <td>146.9644</td>\n",
       "      <td>124.2087</td>\n",
       "      <td>24.1780</td>\n",
       "      <td>109.4460</td>\n",
       "      <td>10.6672</td>\n",
       "      <td>80.2373</td>\n",
       "      <td>...</td>\n",
       "      <td>10.2176</td>\n",
       "      <td>39.0145</td>\n",
       "      <td>7.3299</td>\n",
       "      <td>22.1378</td>\n",
       "      <td>9.0321</td>\n",
       "      <td>11.7978</td>\n",
       "      <td>14.7042</td>\n",
       "      <td>4.830</td>\n",
       "      <td>15.6462</td>\n",
       "      <td>3.8402</td>\n",
       "    </tr>\n",
       "    <tr>\n",
       "      <th>2017-01-01 01:00:00</th>\n",
       "      <td>1.8891</td>\n",
       "      <td>1.477</td>\n",
       "      <td>2.0680</td>\n",
       "      <td>3.2692</td>\n",
       "      <td>21.7932</td>\n",
       "      <td>9.6558</td>\n",
       "      <td>2.4178</td>\n",
       "      <td>12.3395</td>\n",
       "      <td>0.9040</td>\n",
       "      <td>8.8660</td>\n",
       "      <td>...</td>\n",
       "      <td>2.4800</td>\n",
       "      <td>3.2970</td>\n",
       "      <td>1.3830</td>\n",
       "      <td>2.0267</td>\n",
       "      <td>1.0626</td>\n",
       "      <td>0.8427</td>\n",
       "      <td>1.7505</td>\n",
       "      <td>1.155</td>\n",
       "      <td>2.4612</td>\n",
       "      <td>0.6330</td>\n",
       "    </tr>\n",
       "  </tbody>\n",
       "</table>\n",
       "<p>2 rows × 53 columns</p>\n",
       "</div>"
      ],
      "text/plain": [
       "                       71634  71650    71442    71654     71743     71328  \\\n",
       "Datetime                                                                    \n",
       "2017-01-01 00:00:00  22.4593  7.807  10.7536  22.8844  146.9644  124.2087   \n",
       "2017-01-01 01:00:00   1.8891  1.477   2.0680   3.2692   21.7932    9.6558   \n",
       "\n",
       "                       71305     71517    71284   415852   ...      71201  \\\n",
       "Datetime                                                   ...              \n",
       "2017-01-01 00:00:00  24.1780  109.4460  10.6672  80.2373   ...    10.2176   \n",
       "2017-01-01 01:00:00   2.4178   12.3395   0.9040   8.8660   ...     2.4800   \n",
       "\n",
       "                       72460   70488    71076   70604    73695    70143  \\\n",
       "Datetime                                                                  \n",
       "2017-01-01 00:00:00  39.0145  7.3299  22.1378  9.0321  11.7978  14.7042   \n",
       "2017-01-01 01:00:00   3.2970  1.3830   2.0267  1.0626   0.8427   1.7505   \n",
       "\n",
       "                     70248    71001   73615  \n",
       "Datetime                                     \n",
       "2017-01-01 00:00:00  4.830  15.6462  3.8402  \n",
       "2017-01-01 01:00:00  1.155   2.4612  0.6330  \n",
       "\n",
       "[2 rows x 53 columns]"
      ]
     },
     "execution_count": 91,
     "metadata": {},
     "output_type": "execute_result"
    }
   ],
   "source": [
    "df_observation['2017-01-01 00:00:00':'2017-01-01 01:00:00']"
   ]
  },
  {
   "cell_type": "code",
   "execution_count": null,
   "metadata": {
    "collapsed": true
   },
   "outputs": [],
   "source": [
    "dic"
   ]
  },
  {
   "cell_type": "code",
   "execution_count": 18,
   "metadata": {},
   "outputs": [],
   "source": [
    "dict_id_name = dict(pd.read_csv('../data/station_information.csv')[['ID_REFA_LDA','NOM_GARE']].values.tolist())"
   ]
  },
  {
   "cell_type": "code",
   "execution_count": 30,
   "metadata": {},
   "outputs": [
    {
     "data": {
      "text/plain": [
       "'LA D?FENSE-GRANDE ARCHE'"
      ]
     },
     "execution_count": 30,
     "metadata": {},
     "output_type": "execute_result"
    }
   ],
   "source": [
    "dict_id_name[71517]"
   ]
  },
  {
   "cell_type": "code",
   "execution_count": 2,
   "metadata": {},
   "outputs": [
    {
     "name": "stderr",
     "output_type": "stream",
     "text": [
      "100%|██████████| 2/2 [00:00<00:00, 17886.16it/s]\n",
      "100%|██████████| 2/2 [00:00<00:00, 17439.93it/s]\n"
     ]
    }
   ],
   "source": [
    "model_name = 'ha_model_test'\n",
    "path_to_save = '../data/model/test/ha/'\n",
    "load_model = load_pickle(path_to_save + model_name + '.pkl')\n",
    "exogenous_data_path = load_model.infos['exogenous_data_path']\n",
    "list_date = ['2017-01-01 00:00:00', '2017-01-01 01:00:00']\n",
    "\n",
    "X = read_csv_list(exogenous_data_path).set_index('Datetime').ix[list_date][load_model.infos['features']].values\n",
    "pred_mean = load_model.predict(X, choice='mean')\n",
    "pred_median = load_model.predict(X, choice='median')"
   ]
  },
  {
   "cell_type": "code",
   "execution_count": 3,
   "metadata": {},
   "outputs": [
    {
     "data": {
      "text/plain": [
       "array([  22.4593,    7.807 ,   10.7536,   22.8844,  146.9644,  124.2087,\n",
       "         24.178 ,  109.446 ,   10.6672,   80.2373,    9.8027,   90.0448,\n",
       "         16.8435,   57.816 ,    8.6304,   68.0279,   17.4   ,   28.216 ,\n",
       "         77.0412,   15.7896,    0.5282,   43.9401,  153.6652,   18.9126,\n",
       "         38.7772,   15.8064,   14.3362,   13.4688,   12.2752,   10.2363,\n",
       "          4.7817,    9.7092,    5.6592,   18.1482,   10.251 ,    0.    ,\n",
       "         10.8222,   27.966 ,    9.5118,   11.6332,   12.6984,   12.0736,\n",
       "         32.7104,   10.2176,   39.0145,    7.3299,   22.1378,    9.0321,\n",
       "         11.7978,   14.7042,    4.83  ,   15.6462,    3.8402])"
      ]
     },
     "execution_count": 3,
     "metadata": {},
     "output_type": "execute_result"
    }
   ],
   "source": [
    "pred_mean[0]"
   ]
  },
  {
   "cell_type": "code",
   "execution_count": null,
   "metadata": {
    "collapsed": true
   },
   "outputs": [],
   "source": []
  }
 ],
 "metadata": {
  "kernelspec": {
   "display_name": "Python 3.5 - env",
   "language": "python",
   "name": "py35"
  },
  "language_info": {
   "codemirror_mode": {
    "name": "ipython",
    "version": 3
   },
   "file_extension": ".py",
   "mimetype": "text/x-python",
   "name": "python",
   "nbconvert_exporter": "python",
   "pygments_lexer": "ipython3",
   "version": "3.5.4"
  }
 },
 "nbformat": 4,
 "nbformat_minor": 2
}
